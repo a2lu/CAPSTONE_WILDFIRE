{
  "nbformat": 4,
  "nbformat_minor": 0,
  "metadata": {
    "colab": {
      "name": "Fire_Buffers_Boxes.ipynb",
      "provenance": [],
      "collapsed_sections": []
    },
    "kernelspec": {
      "name": "python3",
      "display_name": "Python 3"
    },
    "language_info": {
      "name": "python"
    }
  },
  "cells": [
    {
      "cell_type": "code",
      "execution_count": null,
      "metadata": {
        "id": "7GVLxWEPfI5V"
      },
      "outputs": [],
      "source": [
        "import numpy as np\n",
        "import matplotlib.pyplot as plt\n",
        "import pandas as pd\n",
        "\n",
        "from shapely.geometry import Polygon, Point"
      ]
    },
    {
      "cell_type": "code",
      "source": [
        "#install geopandas as needed\n",
        "!pip install geopandas\n",
        "\n",
        "import geopandas as gpd"
      ],
      "metadata": {
        "colab": {
          "base_uri": "https://localhost:8080/"
        },
        "id": "w1ElR9TzfYw3",
        "outputId": "26e71077-b607-48e4-fa96-97b983faae62"
      },
      "execution_count": null,
      "outputs": [
        {
          "output_type": "stream",
          "name": "stdout",
          "text": [
            "Collecting geopandas\n",
            "  Downloading geopandas-0.10.2-py2.py3-none-any.whl (1.0 MB)\n",
            "\u001b[K     |████████████████████████████████| 1.0 MB 4.4 MB/s \n",
            "\u001b[?25hCollecting fiona>=1.8\n",
            "  Downloading Fiona-1.8.20-cp37-cp37m-manylinux1_x86_64.whl (15.4 MB)\n",
            "\u001b[K     |████████████████████████████████| 15.4 MB 125 kB/s \n",
            "\u001b[?25hCollecting pyproj>=2.2.0\n",
            "  Downloading pyproj-3.2.1-cp37-cp37m-manylinux2010_x86_64.whl (6.3 MB)\n",
            "\u001b[K     |████████████████████████████████| 6.3 MB 37.3 MB/s \n",
            "\u001b[?25hRequirement already satisfied: shapely>=1.6 in /usr/local/lib/python3.7/dist-packages (from geopandas) (1.8.0)\n",
            "Requirement already satisfied: pandas>=0.25.0 in /usr/local/lib/python3.7/dist-packages (from geopandas) (1.1.5)\n",
            "Collecting munch\n",
            "  Downloading munch-2.5.0-py2.py3-none-any.whl (10 kB)\n",
            "Collecting click-plugins>=1.0\n",
            "  Downloading click_plugins-1.1.1-py2.py3-none-any.whl (7.5 kB)\n",
            "Requirement already satisfied: click>=4.0 in /usr/local/lib/python3.7/dist-packages (from fiona>=1.8->geopandas) (7.1.2)\n",
            "Requirement already satisfied: certifi in /usr/local/lib/python3.7/dist-packages (from fiona>=1.8->geopandas) (2021.10.8)\n",
            "Requirement already satisfied: six>=1.7 in /usr/local/lib/python3.7/dist-packages (from fiona>=1.8->geopandas) (1.15.0)\n",
            "Requirement already satisfied: attrs>=17 in /usr/local/lib/python3.7/dist-packages (from fiona>=1.8->geopandas) (21.4.0)\n",
            "Collecting cligj>=0.5\n",
            "  Downloading cligj-0.7.2-py3-none-any.whl (7.1 kB)\n",
            "Requirement already satisfied: setuptools in /usr/local/lib/python3.7/dist-packages (from fiona>=1.8->geopandas) (57.4.0)\n",
            "Requirement already satisfied: numpy>=1.15.4 in /usr/local/lib/python3.7/dist-packages (from pandas>=0.25.0->geopandas) (1.19.5)\n",
            "Requirement already satisfied: pytz>=2017.2 in /usr/local/lib/python3.7/dist-packages (from pandas>=0.25.0->geopandas) (2018.9)\n",
            "Requirement already satisfied: python-dateutil>=2.7.3 in /usr/local/lib/python3.7/dist-packages (from pandas>=0.25.0->geopandas) (2.8.2)\n",
            "Installing collected packages: munch, cligj, click-plugins, pyproj, fiona, geopandas\n",
            "Successfully installed click-plugins-1.1.1 cligj-0.7.2 fiona-1.8.20 geopandas-0.10.2 munch-2.5.0 pyproj-3.2.1\n"
          ]
        }
      ]
    },
    {
      "cell_type": "code",
      "source": [
        "# HELPER FUNCTIONS #\n",
        "\n",
        "\n",
        "def boundsBuffer(x, buffer=0.15):\n",
        "    \"\"\"\n",
        "    Returns a Polygon geometry that represents a bounding box with a default 15% buffer\n",
        "    \"\"\"\n",
        "    minx, miny, maxx, maxy = x\n",
        "    buffer_x, buffer_y = np.abs(buffer*(maxx-minx)), np.abs(buffer*(maxy-miny))\n",
        "    minx -= buffer_x\n",
        "    maxx += buffer_x\n",
        "    miny -= buffer_y\n",
        "    maxy += buffer_y\n",
        "    \n",
        "    coords = ((minx, miny), (minx, maxy), (maxx, maxy), (maxx, miny))\n",
        "    return Polygon(coords)\n"
      ],
      "metadata": {
        "id": "drsEk-RZT0-G"
      },
      "execution_count": null,
      "outputs": []
    },
    {
      "cell_type": "code",
      "source": [
        "### UPLOAD ALL FILES FROM DATA FOLDER ###\n",
        "### IT MAY TAKE A WHILE (~5 mins) ###\n",
        "\n",
        "\n",
        "#wildfire boundaries\n",
        "fires = gpd.read_file('/content/CA_Fire_Polys.geojson')\n",
        "\n",
        "fires.crs #EPSG:4326"
      ],
      "metadata": {
        "colab": {
          "base_uri": "https://localhost:8080/"
        },
        "id": "LoErqSQmf02-",
        "outputId": "8cfd12c9-92aa-469c-f239-57edb26cf9bb"
      },
      "execution_count": null,
      "outputs": [
        {
          "output_type": "execute_result",
          "data": {
            "text/plain": [
              "<Geographic 2D CRS: EPSG:4326>\n",
              "Name: WGS 84\n",
              "Axis Info [ellipsoidal]:\n",
              "- Lat[north]: Geodetic latitude (degree)\n",
              "- Lon[east]: Geodetic longitude (degree)\n",
              "Area of Use:\n",
              "- name: World.\n",
              "- bounds: (-180.0, -90.0, 180.0, 90.0)\n",
              "Datum: World Geodetic System 1984 ensemble\n",
              "- Ellipsoid: WGS 84\n",
              "- Prime Meridian: Greenwich"
            ]
          },
          "metadata": {},
          "execution_count": 43
        }
      ]
    },
    {
      "cell_type": "code",
      "source": [
        "#california counties (used to differentiate northern california)\n",
        "counties = gpd.read_file('/content/CA_Counties_TIGER2016.shp')\n",
        "\n",
        "counties.crs #EPSG:3857"
      ],
      "metadata": {
        "colab": {
          "base_uri": "https://localhost:8080/"
        },
        "id": "V7Dev-3Sac89",
        "outputId": "b808e5d3-1f9e-4d8b-943c-38d8fb372825"
      },
      "execution_count": null,
      "outputs": [
        {
          "output_type": "execute_result",
          "data": {
            "text/plain": [
              "<Projected CRS: EPSG:3857>\n",
              "Name: WGS 84 / Pseudo-Mercator\n",
              "Axis Info [cartesian]:\n",
              "- X[east]: Easting (metre)\n",
              "- Y[north]: Northing (metre)\n",
              "Area of Use:\n",
              "- name: World between 85.06°S and 85.06°N.\n",
              "- bounds: (-180.0, -85.06, 180.0, 85.06)\n",
              "Coordinate Operation:\n",
              "- name: Popular Visualisation Pseudo-Mercator\n",
              "- method: Popular Visualisation Pseudo Mercator\n",
              "Datum: World Geodetic System 1984 ensemble\n",
              "- Ellipsoid: WGS 84\n",
              "- Prime Meridian: Greenwich"
            ]
          },
          "metadata": {},
          "execution_count": 44
        }
      ]
    },
    {
      "cell_type": "code",
      "source": [
        "#state of california boundary\n",
        "state = gpd.read_file('/content/CA_State_TIGER2016.shp')\n",
        "\n",
        "state.crs #EPSG:3857"
      ],
      "metadata": {
        "colab": {
          "base_uri": "https://localhost:8080/"
        },
        "id": "CX_k0qsYeGxi",
        "outputId": "6731f508-4443-4567-d348-9cf4f8c16577"
      },
      "execution_count": null,
      "outputs": [
        {
          "output_type": "execute_result",
          "data": {
            "text/plain": [
              "<Projected CRS: EPSG:3857>\n",
              "Name: WGS 84 / Pseudo-Mercator\n",
              "Axis Info [cartesian]:\n",
              "- X[east]: Easting (metre)\n",
              "- Y[north]: Northing (metre)\n",
              "Area of Use:\n",
              "- name: World between 85.06°S and 85.06°N.\n",
              "- bounds: (-180.0, -85.06, 180.0, 85.06)\n",
              "Coordinate Operation:\n",
              "- name: Popular Visualisation Pseudo-Mercator\n",
              "- method: Popular Visualisation Pseudo Mercator\n",
              "Datum: World Geodetic System 1984 ensemble\n",
              "- Ellipsoid: WGS 84\n",
              "- Prime Meridian: Greenwich"
            ]
          },
          "metadata": {},
          "execution_count": 45
        }
      ]
    },
    {
      "cell_type": "code",
      "source": [
        "#consolidate all crs to EPSG:3310, this gives us 1m area accuracy in CA\n",
        "#values are in meters\n",
        "ca_crs = 'EPSG:3310'\n",
        "\n",
        "fires.to_crs(ca_crs, inplace=True)\n",
        "counties.to_crs(ca_crs, inplace=True)\n",
        "state.to_crs(ca_crs, inplace=True)\n",
        "\n",
        "fires.crs"
      ],
      "metadata": {
        "colab": {
          "base_uri": "https://localhost:8080/"
        },
        "id": "QiCDasNSampY",
        "outputId": "be8c1bf6-6b53-43b6-abba-9c20354d1e9e"
      },
      "execution_count": null,
      "outputs": [
        {
          "output_type": "execute_result",
          "data": {
            "text/plain": [
              "<Projected CRS: EPSG:3310>\n",
              "Name: NAD83 / California Albers\n",
              "Axis Info [cartesian]:\n",
              "- X[east]: Easting (metre)\n",
              "- Y[north]: Northing (metre)\n",
              "Area of Use:\n",
              "- name: United States (USA) - California.\n",
              "- bounds: (-124.45, 32.53, -114.12, 42.01)\n",
              "Coordinate Operation:\n",
              "- name: California Albers\n",
              "- method: Albers Equal Area\n",
              "Datum: North American Datum 1983\n",
              "- Ellipsoid: GRS 1980\n",
              "- Prime Meridian: Greenwich"
            ]
          },
          "metadata": {},
          "execution_count": 46
        }
      ]
    },
    {
      "cell_type": "code",
      "source": [
        "#Consider NorCal as anything north of the most southern point in Merced county\n",
        "merced = counties[counties.NAME == 'San Francisco']\n",
        "\n",
        "lower_bound = merced.bounds.maxy.values[0]"
      ],
      "metadata": {
        "id": "Oa81rfla2eW0"
      },
      "execution_count": null,
      "outputs": []
    },
    {
      "cell_type": "code",
      "source": [
        "ACRES_TO_METERS = 4046.86\n",
        "\n",
        "#get 2015 fires and later\n",
        "fires_df = fires[fires['YEAR_'].astype(int) >= 2013]\n",
        "\n",
        "#get fires that are greather than or equal to 5000 acres\n",
        "fires_df = fires_df.loc[fires_df.GIS_ACRES >= 4500,:].reset_index(drop=True)\n",
        "fires_df.geometry = fires_df.buffer(10)\n",
        "\n",
        "#calc fire bounds (keep this for bounding box)\n",
        "fire_bounds_all = fires_df.bounds\n",
        "#check if northernmost point of fire point(maxy) is north of lower bound\n",
        "#is_north_ca_fire = fire_bounds_all.maxy > lower_bound #True if norcal,else False\n",
        "\n",
        "#spatially filtered fires and bounds\n",
        "#fires_df = fires_df.loc[is_north_ca_fire,:].reset_index(drop=True)\n",
        "#fire_bounds = fire_bounds_all.loc[is_north_ca_fire,:].reset_index(drop=True)\n",
        "\n",
        "#create bounding box polygons\n",
        "fire_rects = gpd.GeoSeries(fire_bounds_all.apply(boundsBuffer, axis=1), crs=ca_crs)\n",
        "\n",
        "#subtract wildifre polys from bounding boxes to get unburned area\n",
        "unburned_polys = fire_rects.difference(fires_df)\n",
        "\n",
        "#Big spikes in fire occurrences\n",
        "fires_df.YEAR_.value_counts().sort_index().plot(kind='bar', title='NorCal Wildfires per Year', color='crimson')"
      ],
      "metadata": {
        "colab": {
          "base_uri": "https://localhost:8080/",
          "height": 314
        },
        "id": "m01dWBSFgUJ_",
        "outputId": "650ad339-b113-4c37-d310-3e01bb91bba3"
      },
      "execution_count": null,
      "outputs": [
        {
          "output_type": "execute_result",
          "data": {
            "text/plain": [
              "<matplotlib.axes._subplots.AxesSubplot at 0x7f4c62475610>"
            ]
          },
          "metadata": {},
          "execution_count": 101
        },
        {
          "output_type": "display_data",
          "data": {
            "image/png": "[encoded data removed]",
            "text/plain": [
              "<Figure size 432x288 with 1 Axes>"
            ]
          },
          "metadata": {
            "needs_background": "light"
          }
        }
      ]
    },
    {
      "cell_type": "code",
      "source": [
        "fires_df.area.describe()['mean'] / ACRES_TO_METERS"
      ],
      "metadata": {
        "colab": {
          "base_uri": "https://localhost:8080/"
        },
        "id": "O5LW8QIfQOft",
        "outputId": "683591ed-f65f-420e-a831-5d10a15f7a85"
      },
      "execution_count": null,
      "outputs": [
        {
          "output_type": "execute_result",
          "data": {
            "text/plain": [
              "47163.10184179973"
            ]
          },
          "metadata": {},
          "execution_count": 102
        }
      ]
    },
    {
      "cell_type": "code",
      "source": [
        "#avg_fire size: 57120 acres\n",
        "#median_fire size: 19538 acres\n",
        "fires_df.GIS_ACRES.describe()"
      ],
      "metadata": {
        "colab": {
          "base_uri": "https://localhost:8080/"
        },
        "id": "FyHfNRBIBooe",
        "outputId": "ad341db4-95b1-45da-9d71-a083f8c1c06f"
      },
      "execution_count": null,
      "outputs": [
        {
          "output_type": "execute_result",
          "data": {
            "text/plain": [
              "count    1.980000e+02\n",
              "mean     4.686155e+04\n",
              "std      9.774397e+04\n",
              "min      4.533284e+03\n",
              "25%      8.055944e+03\n",
              "50%      1.598701e+04\n",
              "75%      4.118925e+04\n",
              "max      1.032699e+06\n",
              "Name: GIS_ACRES, dtype: float64"
            ]
          },
          "metadata": {},
          "execution_count": 103
        }
      ]
    },
    {
      "cell_type": "code",
      "source": [
        "#NOTE: some fires lay slightly outside of CA\n",
        "all_state_plot = state.plot(alpha=0.3, figsize=(6,10), aspect=1) #graph fails without aspect=1\n",
        "all_state_plot.axis('off')\n",
        "\n",
        "fire_rects.plot(color='blue', ax=all_state_plot,aspect=1)\n",
        "fires_df.plot(ax=all_state_plot, aspect=1, color='crimson')"
      ],
      "metadata": {
        "colab": {
          "base_uri": "https://localhost:8080/",
          "height": 438
        },
        "id": "EQdiLlRCsGo4",
        "outputId": "fefaf1d3-33b0-49d6-fdf6-93d5107f165e"
      },
      "execution_count": null,
      "outputs": [
        {
          "output_type": "execute_result",
          "data": {
            "text/plain": [
              "<matplotlib.axes._subplots.AxesSubplot at 0x7f4c625e4290>"
            ]
          },
          "metadata": {},
          "execution_count": 104
        },
        {
          "output_type": "display_data",
          "data": {
            "image/png": "[encoded data removed]",
            "text/plain": [
              "<Figure size 432x720 with 1 Axes>"
            ]
          },
          "metadata": {
            "needs_background": "light"
          }
        }
      ]
    },
    {
      "cell_type": "code",
      "source": [
        "TARGET_FIRES = ['BUTTE', 'CAMP', 'WALKER', 'KINCADE', 'CARR', 'OAK', \n",
        "                'REDWOOD VALLEY', 'COVE', 'BUCK', 'CASCADE', 'KING', \n",
        "                'CALDWELL', 'FRYING PAN', 'HAPPY', 'ROCKY', 'ATLAS', 'BALD']\n",
        "\n",
        "is_target = pd.Series([f_name.strip() in TARGET_FIRES for f_name in fires_df.FIRE_NAME])\n",
        "\n",
        "target_fires = fires_df.loc[is_target,:].sort_values('FIRE_NAME').reset_index(drop=True)\n",
        "\n",
        "target_unburned = unburned_polys.loc[is_target].reset_index(drop=True)\n",
        "\n",
        "target_bounds = fire_rects.loc[is_target].reset_index(drop=True)"
      ],
      "metadata": {
        "id": "VXeKgsD_MzeK"
      },
      "execution_count": null,
      "outputs": []
    },
    {
      "cell_type": "code",
      "source": [
        "\n",
        "\n",
        "target_bounds.plot()"
      ],
      "metadata": {
        "colab": {
          "base_uri": "https://localhost:8080/",
          "height": 282
        },
        "id": "8lJ9vyrneltV",
        "outputId": "78b75260-ce2d-4959-90da-21708cdad6f2"
      },
      "execution_count": null,
      "outputs": [
        {
          "output_type": "execute_result",
          "data": {
            "text/plain": [
              "<matplotlib.axes._subplots.AxesSubplot at 0x7f4c6218d290>"
            ]
          },
          "metadata": {},
          "execution_count": 143
        },
        {
          "output_type": "display_data",
          "data": {
            "image/png": "[encoded data removed]",
            "text/plain": [
              "<Figure size 432x288 with 1 Axes>"
            ]
          },
          "metadata": {
            "needs_background": "light"
          }
        }
      ]
    },
    {
      "cell_type": "code",
      "source": [
        "graph_buffer = 30000\n",
        "\n",
        "graph_min_x, graph_min_y = fire_bounds_all.loc[is_target, ['minx', 'miny']].min().values - graph_buffer\n",
        "graph_max_x, graph_max_y = fire_bounds_all.loc[is_target, ['maxx', 'maxy']].max().values + graph_buffer"
      ],
      "metadata": {
        "id": "sqy-OIQdWncn"
      },
      "execution_count": null,
      "outputs": []
    },
    {
      "cell_type": "code",
      "source": [
        "#bounding boxes in blue, fire polygons in red\n",
        "state_plot = state.plot(alpha=0.3, figsize=(6,10), aspect=1) #graph fails without aspect=1\n",
        "state_plot.axis('off')\n",
        "state_plot.set_ylim(bottom=graph_min_y\t, top=graph_max_y)\n",
        "state_plot.set_xlim(right=graph_max_x\t,left=graph_min_x)\n",
        "\n",
        "\n",
        "fire_rects[is_target].plot(color='blue', ax=state_plot,aspect=1)\n",
        "fires_df.loc[is_target,:].plot(ax=state_plot, aspect=1, color='crimson')\n",
        "\n",
        "#TODO: add buffer distance to bounding box?"
      ],
      "metadata": {
        "colab": {
          "base_uri": "https://localhost:8080/",
          "height": 516
        },
        "id": "3l-KIEk1WW8J",
        "outputId": "ddf26a56-4063-462d-f7c0-1e37e9b1448a"
      },
      "execution_count": null,
      "outputs": [
        {
          "output_type": "execute_result",
          "data": {
            "text/plain": [
              "<matplotlib.axes._subplots.AxesSubplot at 0x7f4c6245a550>"
            ]
          },
          "metadata": {},
          "execution_count": 125
        },
        {
          "output_type": "display_data",
          "data": {
            "image/png": "[encoded data removed]",
            "text/plain": [
              "<Figure size 432x720 with 1 Axes>"
            ]
          },
          "metadata": {
            "needs_background": "light"
          }
        }
      ]
    },
    {
      "cell_type": "code",
      "source": [
        "unburned_plot = state.plot(alpha=0.3, figsize=(6,10), aspect=1) #graph fails without aspect=1\n",
        "unburned_plot.axis('off')\n",
        "unburned_plot.set_ylim(bottom=graph_min_y\t, top=graph_max_y)\n",
        "unburned_plot.set_xlim(right=graph_max_x\t,left=graph_min_x)\n",
        "\n",
        "unburned_polys[is_target].plot(color='green', ax=unburned_plot)"
      ],
      "metadata": {
        "colab": {
          "base_uri": "https://localhost:8080/",
          "height": 516
        },
        "id": "wLjnY9u4FK8L",
        "outputId": "89f629d5-4aa7-4a0b-dfe5-a243131fda5c"
      },
      "execution_count": null,
      "outputs": [
        {
          "output_type": "execute_result",
          "data": {
            "text/plain": [
              "<matplotlib.axes._subplots.AxesSubplot at 0x7f4c6215df10>"
            ]
          },
          "metadata": {},
          "execution_count": 127
        },
        {
          "output_type": "display_data",
          "data": {
            "image/png": "[encoded data removed]",
            "text/plain": [
              "<Figure size 432x720 with 1 Axes>"
            ]
          },
          "metadata": {
            "needs_background": "light"
          }
        }
      ]
    },
    {
      "cell_type": "code",
      "source": [
        "#downloads polygon data for fires burned area\n",
        "\n",
        "target_fires.to_file('target_fires.shp')"
      ],
      "metadata": {
        "colab": {
          "base_uri": "https://localhost:8080/"
        },
        "id": "faSOp0rKQnn5",
        "outputId": "f9459151-bd23-4f56-cb5b-973fe7a3f28d"
      },
      "execution_count": null,
      "outputs": [
        {
          "output_type": "stream",
          "name": "stderr",
          "text": [
            "/usr/local/lib/python3.7/dist-packages/ipykernel_launcher.py:1: UserWarning: Column names longer than 10 characters will be truncated when saved to ESRI Shapefile.\n",
            "  \"\"\"Entry point for launching an IPython kernel.\n"
          ]
        }
      ]
    },
    {
      "cell_type": "code",
      "source": [
        "#downloads polygon data for fires unburned area\n",
        "\n",
        "target_fires.geometry = target_unburned\n",
        "\n",
        "target_fires.to_file('target_fires_outlines.shp')"
      ],
      "metadata": {
        "id": "BP2IlS8DSns7",
        "colab": {
          "base_uri": "https://localhost:8080/"
        },
        "outputId": "a7cbef54-4d54-4e7e-c9e2-8cbcfa10a890"
      },
      "execution_count": null,
      "outputs": [
        {
          "output_type": "stream",
          "name": "stderr",
          "text": [
            "/usr/local/lib/python3.7/dist-packages/ipykernel_launcher.py:1: UserWarning: Column names longer than 10 characters will be truncated when saved to ESRI Shapefile.\n",
            "  \"\"\"Entry point for launching an IPython kernel.\n"
          ]
        }
      ]
    },
    {
      "cell_type": "code",
      "source": [
        "target_fires.geometry = target_bounds\n",
        "\n",
        "target_fires.to_file('target_fires_bounds.shp')"
      ],
      "metadata": {
        "id": "1MQN6qi0ZdRQ",
        "colab": {
          "base_uri": "https://localhost:8080/"
        },
        "outputId": "a72be5b3-db62-449d-91ee-65a8e8d98998"
      },
      "execution_count": null,
      "outputs": [
        {
          "output_type": "stream",
          "name": "stderr",
          "text": [
            "/usr/local/lib/python3.7/dist-packages/ipykernel_launcher.py:3: UserWarning: Column names longer than 10 characters will be truncated when saved to ESRI Shapefile.\n",
            "  This is separate from the ipykernel package so we can avoid doing imports until\n"
          ]
        }
      ]
    },
    {
      "cell_type": "code",
      "source": [
        "target_fires.to_file?"
      ],
      "metadata": {
        "id": "EvvXY1fIfRVH"
      },
      "execution_count": null,
      "outputs": []
    },
    {
      "cell_type": "code",
      "source": [
        ""
      ],
      "metadata": {
        "id": "YUhpFAeofzwS"
      },
      "execution_count": null,
      "outputs": []
    }
  ]
}