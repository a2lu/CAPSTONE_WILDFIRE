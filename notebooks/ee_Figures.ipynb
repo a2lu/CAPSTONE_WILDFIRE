{
 "cells": [
  {
   "cell_type": "code",
   "execution_count": null,
   "id": "726754b5",
   "metadata": {},
   "outputs": [],
   "source": [
    "import os\n",
    "import ee\n",
    "import geemap\n",
    "import geopandas as gpd\n",
    "import pandas as pd\n",
    "\n",
    "from datetime import datetime, timedelta\n",
    "from operator import itemgetter\n",
    "from collections import defaultdict\n",
    "\n",
    "import sys\n",
    "sys.path.insert(0, \"../src\")\n",
    "\n",
    "# change\n",
    "from etl import *\n",
    "from viz import *"
   ]
  },
  {
   "cell_type": "code",
   "execution_count": null,
   "id": "2989ed82",
   "metadata": {},
   "outputs": [],
   "source": [
    "os.chdir(\"..\")\n",
    "\n",
    "if not os.path.exists(\"images/\"):\n",
    "    os.mkdir(\"images/\")"
   ]
  },
  {
   "cell_type": "code",
   "execution_count": null,
   "id": "546721d8",
   "metadata": {},
   "outputs": [],
   "source": [
    "ee.Authenticate()"
   ]
  },
  {
   "cell_type": "code",
   "execution_count": null,
   "id": "13c9ec4c",
   "metadata": {},
   "outputs": [],
   "source": [
    "ee.Initialize()"
   ]
  },
  {
   "cell_type": "code",
   "execution_count": null,
   "id": "f19d8d07",
   "metadata": {},
   "outputs": [],
   "source": [
    "# simplified NLCD land cover classes\n",
    "groupedLC = {1: \"other\",       # open water / perennial ice+snow\n",
    "             2: \"developed\",\n",
    "             3: \"other\",       # barren land\n",
    "             4: \"forest\",\n",
    "             5: \"shrub\",\n",
    "             7: \"grassland\",\n",
    "             8: \"agriculture\",\n",
    "             9: \"other\"}       # wetland\n",
    "\n",
    "\n",
    "def groupByLandCover(x, fireName):\n",
    "    ddict = defaultdict(float)\n",
    "    ddict[\"agriculture\"] = 0   # regions without agriculture\n",
    "    \n",
    "    for key, value in x.items():\n",
    "        newKey = int(key[0])\n",
    "        ddict[groupedLC[newKey]] += value\n",
    "        \n",
    "    sumPixels = sum(ddict.values())\n",
    "    for key, value in ddict.items():\n",
    "        ddict[key] = 100*np.round(value/sumPixels, 3)\n",
    "        \n",
    "    ddict = dict(sorted(ddict.items()))\n",
    "    return [fireName]+list(ddict.values())"
   ]
  },
  {
   "cell_type": "code",
   "execution_count": null,
   "id": "270409b9",
   "metadata": {},
   "outputs": [],
   "source": [
    "nlcd = ee.ImageCollection(\"USGS/NLCD_RELEASES/2016_REL\"\n",
    "        ).filter(ee.Filter.eq(\"system:index\", \"2016\")\n",
    "        ).first()"
   ]
  },
  {
   "cell_type": "markdown",
   "id": "f28acbda",
   "metadata": {},
   "source": [
    "## Aggregated NLCD Stats"
   ]
  },
  {
   "cell_type": "code",
   "execution_count": null,
   "id": "07b0a19e",
   "metadata": {},
   "outputs": [],
   "source": [
    "bounds_EE = geemap.shp_to_ee(\"data/bounds/bounds.shp\")"
   ]
  },
  {
   "cell_type": "code",
   "execution_count": null,
   "id": "fe81b409",
   "metadata": {},
   "outputs": [],
   "source": [
    "fireLandCover = nlcd.select(\"landcover\"\n",
    "                   ).reduceRegions(collection=bounds_EE,\n",
    "                                   reducer=ee.Reducer.frequencyHistogram(),\n",
    "                                   scale=30,\n",
    "                                   tileScale=4).getInfo()\n",
    "\n",
    "results_1 = []\n",
    "for i in fireLandCover[\"features\"]:\n",
    "    fireName = i[\"properties\"][\"FIRE_NAME\"]\n",
    "    results_1.append(groupByLandCover(i[\"properties\"][\"histogram\"], fireName))\n",
    "    \n",
    "nlcd_1 = pd.DataFrame(results_1,\n",
    "                    columns=[\"Fire\", \"Agriculture (%)\", \"Developed (%)\",\n",
    "                             \"Forest (%)\", \"Grassland (%)\",\n",
    "                             \"Other (%)\", \"Shrub (%)\"])\n",
    "\n",
    "nlcd_1"
   ]
  },
  {
   "cell_type": "code",
   "execution_count": null,
   "id": "98e9b640",
   "metadata": {},
   "outputs": [],
   "source": [
    "counties = gpd.read_file(\"data/CA_Counties/CA_Counties_TIGER2016.shp\")\n",
    "\n",
    "sfUpperBound = counties[counties[\"NAME\"]==\"San Francisco\"][\"geometry\"].bounds[\"maxy\"].values[0]\n",
    "norCal = counties.bounds.apply(lambda x: x[3]>sfUpperBound, axis=1)\n",
    "norCalCounties = geemap.gdf_to_ee(counties[norCal])"
   ]
  },
  {
   "cell_type": "code",
   "execution_count": null,
   "id": "c0eb4b45",
   "metadata": {},
   "outputs": [],
   "source": [
    "countyLandCover = nlcd.select(\"landcover\"\n",
    "                     ).reduceRegions(collection=norCalCounties,\n",
    "                                     reducer=ee.Reducer.frequencyHistogram(),\n",
    "                                     scale=60,\n",
    "                                     tileScale=4).getInfo()\n",
    "\n",
    "results_2 = []\n",
    "for i in countyLandCover[\"features\"]:\n",
    "    fireName = i[\"properties\"][\"NAME\"]\n",
    "    results_2.append(groupByLandCover(i[\"properties\"][\"histogram\"], fireName))\n",
    "    \n",
    "nlcd_2 = pd.DataFrame(results_2,\n",
    "                      columns=[\"County\", \"Agriculture (%)\", \"Developed (%)\",\n",
    "                               \"Forest (%)\", \"Grassland (%)\",\n",
    "                               \"Other (%)\", \"Shrub (%)\"])\n",
    "\n",
    "\n",
    "nlcd_2.sort_values(by=\"County\").reset_index(drop=True)"
   ]
  },
  {
   "cell_type": "code",
   "execution_count": null,
   "id": "aec68a1f",
   "metadata": {},
   "outputs": [],
   "source": [
    "nlcdKeys = [\"percent_tree_cover\", \"rangeland_annual_herbaceous\",\n",
    "            \"rangeland_bare_ground\", \"rangeland_big_sagebrush\", \"rangeland_herbaceous\",\n",
    "            \"rangeland_litter\", \"rangeland_sagebrush\", \"rangeland_shrub\"]\n",
    "\n",
    "nlcdStats = nlcd.select(nlcdKeys\n",
    "               ).reduceRegions(collection=bounds_EE,\n",
    "                               reducer=ee.Reducer.mean(),\n",
    "                               scale=30,\n",
    "                               tileScale=4).getInfo()\n",
    "\n",
    "nlcdStats = list(map(lambda x: list(itemgetter(*([\"FIRE_NAME\"]+nlcdKeys))(x[\"properties\"])),\n",
    "                     nlcdStats[\"features\"]))\n",
    "\n",
    "# Slightly weird definitions + some missing values / probably not helpful\n",
    "nlcd_3 = pd.DataFrame(nlcdStats, columns = [\"Fire\"]+nlcdKeys)\n",
    "nlcd_3"
   ]
  },
  {
   "cell_type": "markdown",
   "id": "5fba0e98",
   "metadata": {},
   "source": [
    "## Land Cover, L8, Burn Severity   Images/Gifs"
   ]
  },
  {
   "cell_type": "code",
   "execution_count": null,
   "id": "80b56d99",
   "metadata": {},
   "outputs": [],
   "source": [
    "burnPalette = [\"706c1e\", \"4e9d5c\", \"fff70b\", \"ff641b\", \"a41fd6\"]\n",
    "landCoverPalette = [\"A2D6F2\", \"FF7F68\", \"258914\", \"FFF100\", \"7CD860\", \"B99B56\"]\n",
    "\n",
    "# Params for saving images as png\n",
    "landsatParams = {\"dimensions\": None,     # Landsat Bands 7-5-3\n",
    "                 \"region\": None,\n",
    "                 \"min\": 1000, \"max\": 25000,\n",
    "                 \"gamma\":[1, 1, 1.2],\n",
    "                 \"format\": \"png\"}\n",
    "\n",
    "severityParams = {\"dimensions\": None,\n",
    "                  \"region\": None,\n",
    "                  \"min\": 0, \"max\": 4,\n",
    "                  \"palette\": burnPalette,\n",
    "                  \"format\": \"png\"}\n",
    "\n",
    "nlcdParams = {\"dimensions\": None,\n",
    "              \"region\": None,\n",
    "              \"min\": 0, \"max\": 5,\n",
    "              \"palette\": landCoverPalette,\n",
    "              \"format\": \"png\"}"
   ]
  },
  {
   "cell_type": "code",
   "execution_count": null,
   "id": "e52da279",
   "metadata": {},
   "outputs": [],
   "source": [
    "bounds_df = gpd.read_file(\"data/bounds/bounds.shp\")\n",
    "bbox_EE = geemap.shp_to_ee(\"data/unburned/bbox.shp\")"
   ]
  },
  {
   "cell_type": "code",
   "execution_count": null,
   "id": "5a59767b",
   "metadata": {},
   "outputs": [],
   "source": [
    "# CA state + norCal counties for NLCD images\n",
    "counties = gpd.read_file(\"data/CA_Counties/CA_Counties_TIGER2016.shp\")\n",
    "sfLowerBound = counties[counties[\"NAME\"]==\"San Francisco\"][\"geometry\"].bounds[\"maxy\"].values[0]\n",
    "norCal = counties.bounds.apply(lambda x: x[3]>sfLowerBound, axis=1)\n",
    "norCalCounties_EE =  geemap.gdf_to_ee(counties[norCal])\n",
    "\n",
    "ca_bounds = ee.FeatureCollection(\"FAO/GAUL/2015/level1\").filter(ee.Filter.eq(\"ADM1_NAME\", \"California\"))"
   ]
  },
  {
   "cell_type": "code",
   "execution_count": null,
   "id": "d78339c6",
   "metadata": {},
   "outputs": [],
   "source": [
    "nlcdSimple = nlcd.select(\"landcover\"\n",
    "                ).expression(\" (b('landcover') > 90) ? 0 \"    # blue: other (wetland)\n",
    "                             \":(b('landcover') > 80) ? 5 \"    # brown: agriculture\n",
    "                             \":(b('landcover') > 70) ? 4 \"    # lightGreen: grassland/herbaceous\n",
    "                             \":(b('landcover') > 50) ? 3 \"    # yellow: shrub\n",
    "                             \":(b('landcover') > 40) ? 2 \"    # green: forest\n",
    "                             \":(b('landcover') > 30) ? 0 \"    # blue: other (barren land)\n",
    "                             \":(b('landcover') > 20) ? 1 \"    # red: developed/urban\n",
    "                             \":0\"                             # blue: other (water/perennial ice+snow)\n",
    "                ).rename(\"landCover\")\n",
    "\n",
    "\n",
    "# Land cover images for CA and NorCal\n",
    "saveImage(image=nlcdSimple.clipToCollection(norCalCounties_EE\n",
    "                         ).select(\"landCover\"),\n",
    "          params=nlcdParams, \n",
    "          options=[800, norCalCounties_EE.geometry().dissolve()],\n",
    "          path=\"images/CA_landCover\",\n",
    "          fileName=\"norCal.png\")\n",
    "\n",
    "saveImage(image=nlcdSimple.clipToCollection(ca_bounds\n",
    "                         ).select(\"landCover\"),\n",
    "          params=nlcdParams,\n",
    "          options=[800, ca_bounds.geometry()],\n",
    "          path=\"images/CA_landCover\",\n",
    "          fileName=\"ca.png\")"
   ]
  },
  {
   "cell_type": "code",
   "execution_count": null,
   "id": "635cb14e",
   "metadata": {},
   "outputs": [],
   "source": [
    "gifText = {\"l8\": [], \"severity\": [], \"landCover\": []}\n",
    "\n",
    "for fireName, preFireDate, postFireDate, geometry in bounds_df[[\"FIRE_NAME\", \"pre-date\",\n",
    "                                                                \"post-date\", \"geometry\"]].values:    \n",
    "    outline = ee.Image(\n",
    "               ).byte(\n",
    "               ).paint(featureCollection=bbox_EE.filter(ee.Filter.eq(\"FIRE_NAME\", fireName)),\n",
    "                       color=\"fff70b\",\n",
    "                       width=2.5\n",
    "               ).visualize(palette=\"fff70b\") # doesn't work properly for burn seerity\n",
    "    \n",
    "    geometry = ee.Geometry.Rectangle(list(geometry.bounds))\n",
    "\n",
    "    # Get pre-post fire Landsat 8 images\n",
    "    preFireImage_l8 = mosaicByDate(ee.ImageCollection(\"LANDSAT/LC08/C02/T1_L2\"\n",
    "                                    ).filterBounds(geometry\n",
    "                                    ).filterDate(preFireDate,\n",
    "                                                 ee.Date(preFireDate).advance(1, \"day\")))\n",
    "\n",
    "    postFireImage_l8 = mosaicByDate(ee.ImageCollection(\"LANDSAT/LC08/C02/T1_L2\"\n",
    "                                     ).filterBounds(geometry\n",
    "                                     ).filterDate(postFireDate,\n",
    "                                                  ee.Date(postFireDate).advance(1, \"day\")))\n",
    "\n",
    "    preFireImage_l8, postFireImage_l8 = ee.Image(preFireImage_l8.get(0)), ee.Image(postFireImage_l8.get(0))\n",
    "\n",
    "    # Calculate NBR, dNBR, and burn severity\n",
    "    preFireNBR = preFireImage_l8.normalizedDifference([\"SR_B5\", \"SR_B7\"])\n",
    "    postFireNBR = postFireImage_l8.normalizedDifference([\"SR_B5\", \"SR_B7\"])\n",
    "    dNBR = (preFireNBR.subtract(postFireNBR)).multiply(1000).rename(\"dNBR\")\n",
    "\n",
    "    burnSeverity = dNBR.expression(\" (b('dNBR') > 425) ? 4 \"    # purple: high severity\n",
    "                                   \":(b('dNBR') > 225) ? 3 \"    # orange: moderate severity\n",
    "                                   \":(b('dNBR') > 100) ? 2 \"    # yellow: low severity\n",
    "                                   \":(b('dNBR') > -60) ? 1 \"    # green: unburned/unchanged\n",
    "                                   \":0\"                         # brown: vegetation growth\n",
    "                      ).rename(\"burnSeverity\")\n",
    "    \n",
    "    gifText[\"l8\"].append(\"{}  {}\".format(fireName, preFireDate))\n",
    "    gifText[\"l8\"].append(\"{}  {}\".format(fireName, postFireDate))        \n",
    "    gifText[\"severity\"].append(\"{}  {}\".format(fireName, postFireDate))\n",
    "    gifText[\"landCover\"].append(\"{}\".format(fireName))\n",
    "    \n",
    "    paramOptions = [600, geometry]\n",
    "    saveImage(image=preFireImage_l8.select([\"SR_B7\", \"SR_B5\", \"SR_B3\"]),\n",
    "              params=landsatParams,\n",
    "              options=paramOptions,\n",
    "              path=\"images/l8/raw\",\n",
    "              fileName=\"{}_1.png\".format(fireName))\n",
    "    \n",
    "    saveImage(image=postFireImage_l8.select([\"SR_B7\", \"SR_B5\", \"SR_B3\"]),\n",
    "              params=landsatParams,\n",
    "              options=paramOptions,\n",
    "              path=\"images/l8/raw\",\n",
    "              fileName=\"{}_2.png\".format(fireName))\n",
    "    \n",
    "    saveImage(image=burnSeverity.select(\"burnSeverity\").blend(outline.select(\"vis-red\")),\n",
    "              params=severityParams,\n",
    "              options=paramOptions,\n",
    "              path=\"images/severity/raw\",\n",
    "              fileName=\"{}.png\".format(fireName))\n",
    "              \n",
    "    saveImage(image=nlcdSimple,\n",
    "              params=nlcdParams,\n",
    "              options=paramOptions,\n",
    "              path=\"images/landCover/raw\",\n",
    "              fileName=\"{}.png\".format(fireName))"
   ]
  },
  {
   "cell_type": "code",
   "execution_count": null,
   "id": "74d282ff",
   "metadata": {},
   "outputs": [],
   "source": [
    "# Standardize raw image sizes and make gif\n",
    "stdImageSize(\"images/l8/raw\", 600, \"images/l8/border\")\n",
    "stdImageSize(\"images/severity/raw\", 600, \"images/severity/border\")\n",
    "stdImageSize(\"images/landCover/raw\", 600, \"images/landCover/border\")\n",
    "\n",
    "makeGif(\"images/l8/border\", \"images/gifs/l8.gif\", gifText[\"l8\"], 1200)\n",
    "makeGif(\"images/severity/border\", \"images/gifs/severity.gif\", gifText[\"severity\"], 1500)\n",
    "makeGif(\"images/landCover/border\", \"images/gifs/landCover.gif\", gifText[\"landCover\"], 1500, (\"45%\", \"96%\"))"
   ]
  },
  {
   "cell_type": "markdown",
   "id": "3913fb75",
   "metadata": {},
   "source": [
    "## Drought Gif"
   ]
  },
  {
   "cell_type": "code",
   "execution_count": null,
   "id": "ee085d56",
   "metadata": {},
   "outputs": [],
   "source": [
    "startDate = datetime.fromisoformat(\"1990-08-01\")\n",
    "\n",
    "dateSeq = []\n",
    "for i in range(32):\n",
    "    dateSeq.append(startDate.isoformat()[:10])\n",
    "    startDate += timedelta(days=365.25)\n",
    "    \n",
    "droughtParams = {\"dimension\": 500,\n",
    "                 \"min\": -5.5, \"max\": 5.5,\n",
    "                 \"region\": ca_bounds.geometry(),\n",
    "                 \"palette\": [\"bf363a\", \"df745e\", \"f4ae91\", \"fcdccb\", \"faf4f1\",\n",
    "                             \"d2e5ef\", \"9dcae1\", \"5da2cb\", \"2f78b3\"]}"
   ]
  },
  {
   "cell_type": "code",
   "execution_count": null,
   "id": "d9c4c8e3",
   "metadata": {},
   "outputs": [],
   "source": [
    "drought = ee.ImageCollection(\"GRIDMET/DROUGHT\").filterDate(\"1990-01-01\", \"2022-01-01\")\n",
    "\n",
    "for i in range(len(dateSeq)):\n",
    "    image = drought.filterDate(dateSeq[i],\n",
    "                               ee.Date(dateSeq[i]).advance(1, \"week\")\n",
    "                  ).mean(\n",
    "                  ).select(\"pdsi\")\n",
    "    \n",
    "    saveImage(image.clip(ca_bounds.geometry()), droughtParams,\n",
    "              [600, ca_bounds.geometry()],\n",
    "              \"images/drought\", \"{}.png\".format(dateSeq[i][:4])) \n",
    "    \n",
    "makeGif(\"images/drought\", \"images/gifs/drought.gif\", [i[:4] for i in dateSeq], 500, (\"10%\", \"95%\"), 25)"
   ]
  },
  {
   "cell_type": "code",
   "execution_count": null,
   "id": "5b06efe7",
   "metadata": {},
   "outputs": [],
   "source": []
  }
 ],
 "metadata": {
  "kernelspec": {
   "display_name": "Python [conda env:geo_env] *",
   "language": "python",
   "name": "conda-env-geo_env-py"
  },
  "language_info": {
   "codemirror_mode": {
    "name": "ipython",
    "version": 3
   },
   "file_extension": ".py",
   "mimetype": "text/x-python",
   "name": "python",
   "nbconvert_exporter": "python",
   "pygments_lexer": "ipython3",
   "version": "3.9.10"
  }
 },
 "nbformat": 4,
 "nbformat_minor": 5
}
