{
 "cells": [
  {
   "cell_type": "code",
   "execution_count": null,
   "metadata": {
    "executionInfo": {
     "elapsed": 9117,
     "status": "ok",
     "timestamp": 1642749503050,
     "user": {
      "displayName": "Anthony Chi",
      "photoUrl": "https://lh3.googleusercontent.com/a/default-user=s64",
      "userId": "08550275860601130108"
     },
     "user_tz": 480
    },
    "id": "-vAFEJgFvJpq"
   },
   "outputs": [],
   "source": [
    "import ee\n",
    "import folium\n",
    "import geemap\n",
    "import geopandas as gpd\n",
    "import altair as alt\n",
    "\n",
    "import sys\n",
    "sys.path.insert(0, \"../../src\")\n",
    "\n",
    "from etl import boundsBuffer, sizeCode, mosaicByDate\n",
    "from viz import *"
   ]
  },
  {
   "cell_type": "markdown",
   "metadata": {
    "id": "ytPUytUuvRbE"
   },
   "source": [
    "# Fire Selection"
   ]
  },
  {
   "cell_type": "code",
   "execution_count": null,
   "metadata": {
    "executionInfo": {
     "elapsed": 11307,
     "status": "ok",
     "timestamp": 1642749669241,
     "user": {
      "displayName": "Anthony Chi",
      "photoUrl": "https://lh3.googleusercontent.com/a/default-user=s64",
      "userId": "08550275860601130108"
     },
     "user_tz": 480
    },
    "id": "9t6Z1SsRvMsY"
   },
   "outputs": [],
   "source": [
    "# Using EPSG:4326 for plotting\n",
    "crs = 'EPSG:4326'\n",
    "\n",
    "# CA counties\n",
    "counties = gpd.read_file(\"../../data/CA_Counties/CA_Counties_TIGER2016.shp\")\n",
    "counties.to_crs(crs, inplace=True)\n",
    "\n",
    "sfLowerBound = counties[counties[\"NAME\"]==\"San Francisco\"][\"geometry\"].bounds[\"maxy\"].values[0]\n",
    "\n",
    "norCal = counties.bounds.apply(lambda x: x[3]>sfLowerBound, axis=1)\n",
    "norCalCounties = counties[norCal]\n",
    "\n",
    "# CA wildfires 2013-2020\n",
    "firesDf = gpd.read_file(\"../../data/California_Fire_Perimeters_(all).geojson\")\n",
    "firesDf.to_crs(crs, inplace=True)\n",
    "\n",
    "firesDf = firesDf[(firesDf[\"GIS_ACRES\"] >= 10000) & (~firesDf[\"CONT_DATE\"].isna()) & (firesDf[\"YEAR_\"].astype(int)>=2013)]\n",
    "firesDf[\"GIS_ACRES\"] = firesDf[\"GIS_ACRES\"].round(2)\n",
    "\n",
    "norCalFires = firesDf.bounds.apply(lambda x: x[1]>sfLowerBound, axis=1)\n",
    "firesDf = firesDf[norCalFires].reset_index(drop=True)\n",
    "\n",
    "firesDf.shape"
   ]
  },
  {
   "cell_type": "code",
   "execution_count": null,
   "metadata": {
    "colab": {
     "base_uri": "https://localhost:8080/",
     "height": 732,
     "output_embedded_package_id": "1VbfDC3ORV-fo8adVOVXnCDKCArW-QZlE"
    },
    "executionInfo": {
     "elapsed": 23050,
     "status": "ok",
     "timestamp": 1642737672613,
     "user": {
      "displayName": "Anthony Chi",
      "photoUrl": "https://lh3.googleusercontent.com/a/default-user=s64",
      "userId": "08550275860601130108"
     },
     "user_tz": 480
    },
    "id": "KEywAj8kvMub",
    "outputId": "073e8cda-a93e-4ffe-f3dd-20496f3803d9"
   },
   "outputs": [],
   "source": [
    "# All fires > 10000 acres from 2013-2020 in Northern California\n",
    "alt.layer(alt.Chart(norCalCounties\n",
    "            ).mark_geoshape(fill=\"#E6E6E6\", stroke=\"black\"\n",
    "            ).encode(tooltip=[\"NAME\"]),\n",
    "          alt.Chart(firesDf[~firesDf[\"FIRE_NAME\"].isin([\"AUGUST COMPLEX FIRES\", \"NORTH COMPLEX\"])]\n",
    "            ).mark_geoshape(stroke=\"black\"\n",
    "            ).encode(color=\"GIS_ACRES:Q\",\n",
    "                     tooltip=[\"FIRE_NAME\", \"ALARM_DATE\", \"CONT_DATE\", \"REPORT_AC\", \"GIS_ACRES\"])\n",
    "   ).properties(width=700, height=700)"
   ]
  },
  {
   "cell_type": "code",
   "execution_count": null,
   "metadata": {
    "executionInfo": {
     "elapsed": 414,
     "status": "ok",
     "timestamp": 1642749745560,
     "user": {
      "displayName": "Anthony Chi",
      "photoUrl": "https://lh3.googleusercontent.com/a/default-user=s64",
      "userId": "08550275860601130108"
     },
     "user_tz": 480
    },
    "id": "OHsLEJWyvMwg"
   },
   "outputs": [],
   "source": [
    "fireSubset = firesDf[\"FIRE_NAME\"].apply(lambda x: x in [\"ATLAS\",\"BALD\",\"BUCK\",\"BUTTE\",\"CALDWELL\",\"CAMP\",\"CARR \",\n",
    "                                                        \"CASCADE\", \"COVE\",\"FRYING PAN\",\"HAPPY\",\"KINCADE\",\n",
    "                                                        \"KING\",\"OAK\",\"REDWOOD VALLEY\",\"ROCKY  \",\"WALKER\"])\n",
    "\n",
    "subsetDf = firesDf[fireSubset].sort_values(by=\"FIRE_NAME\")\n",
    "subsetDf[\"sizeCode\"] = subsetDf[\"GIS_ACRES\"].apply(sizeCode)\n",
    "\n",
    "\n",
    "# bounding box as its own df/layer\n",
    "bboxDf = gpd.GeoDataFrame(subsetDf.loc[:, ~(subsetDf.columns==\"geometry\")],\n",
    "                          geometry=subsetDf[\"geometry\"].apply(lambda x: boundsBuffer(x.bounds).difference(x)))\n",
    "\n",
    "boundsDf = gpd.GeoDataFrame(subsetDf.loc[:, ~(subsetDf.columns==\"geometry\")],\n",
    "                            geometry=subsetDf[\"geometry\"].apply(lambda x: boundsBuffer(x.bounds)))"
   ]
  },
  {
   "cell_type": "code",
   "execution_count": null,
   "metadata": {
    "colab": {
     "base_uri": "https://localhost:8080/",
     "height": 732,
     "output_embedded_package_id": "1vCWOTqWZ2hB4_TeI_cvjOo7utKYUkNax"
    },
    "executionInfo": {
     "elapsed": 17613,
     "status": "ok",
     "timestamp": 1642737759961,
     "user": {
      "displayName": "Anthony Chi",
      "photoUrl": "https://lh3.googleusercontent.com/a/default-user=s64",
      "userId": "08550275860601130108"
     },
     "user_tz": 480
    },
    "id": "SGGx58QYvMzU",
    "outputId": "563c9501-42e4-4481-d37f-90449ec6c5e9"
   },
   "outputs": [],
   "source": [
    "# Selected fires with bounding box + 7.5% buffer\n",
    "alt.layer(alt.Chart(norCalCounties\n",
    "            ).mark_geoshape(stroke=\"black\", fill=\"#E6E6E6\"\n",
    "            ).encode(tooltip=[\"NAME\"]),\n",
    "          alt.Chart(bboxDf).mark_geoshape(stroke=\"red\", fill=\"pink\"),\n",
    "          alt.Chart(subsetDf\n",
    "            ).mark_geoshape(stroke=\"red\", fill=\"lightgreen\"\n",
    "            ).encode(#color=\"GIS_ACRES:Q\",\n",
    "                     tooltip=[\"FIRE_NAME\", \"ALARM_DATE\", \"CONT_DATE\",\n",
    "                              \"REPORT_AC\", \"GIS_ACRES\", \"sizeCode\"]),\n",
    "   ).properties(width=700, height=700)"
   ]
  },
  {
   "cell_type": "markdown",
   "metadata": {
    "id": "noTr60xMbwtk"
   },
   "source": [
    "# Image selection"
   ]
  },
  {
   "cell_type": "code",
   "execution_count": null,
   "metadata": {
    "colab": {
     "base_uri": "https://localhost:8080/"
    },
    "executionInfo": {
     "elapsed": 18680,
     "status": "ok",
     "timestamp": 1642749769209,
     "user": {
      "displayName": "Anthony Chi",
      "photoUrl": "https://lh3.googleusercontent.com/a/default-user=s64",
      "userId": "08550275860601130108"
     },
     "user_tz": 480
    },
    "id": "1zyzT_Uucb_r",
    "outputId": "9e677ca8-9bae-49fa-93bc-3120552c0357"
   },
   "outputs": [],
   "source": [
    "ee.Authenticate()"
   ]
  },
  {
   "cell_type": "code",
   "execution_count": null,
   "metadata": {
    "executionInfo": {
     "elapsed": 2023,
     "status": "ok",
     "timestamp": 1642749773984,
     "user": {
      "displayName": "Anthony Chi",
      "photoUrl": "https://lh3.googleusercontent.com/a/default-user=s64",
      "userId": "08550275860601130108"
     },
     "user_tz": 480
    },
    "id": "fVESpIfnccCy"
   },
   "outputs": [],
   "source": [
    "ee.Initialize()"
   ]
  },
  {
   "cell_type": "code",
   "execution_count": null,
   "metadata": {
    "colab": {
     "base_uri": "https://localhost:8080/",
     "height": 1000
    },
    "executionInfo": {
     "elapsed": 52603,
     "status": "ok",
     "timestamp": 1642753178507,
     "user": {
      "displayName": "Anthony Chi",
      "photoUrl": "https://lh3.googleusercontent.com/a/default-user=s64",
      "userId": "08550275860601130108"
     },
     "user_tz": 480
    },
    "id": "H1X-MEP6bplc",
    "outputId": "d52512af-11ac-462f-e2bf-3b4f108a6831"
   },
   "outputs": [],
   "source": [
    "# pre-fire image selection\n",
    "for fireName, start, geometry in boundsDf[[\"FIRE_NAME\", \"ALARM_DATE\", \"geometry\"]].values:\n",
    "    geometry = ee.Geometry.Rectangle(list(geometry.bounds))\n",
    "    center = geometry.centroid().getInfo()[\"coordinates\"][::-1]\n",
    "\n",
    "    l8_sr = ee.ImageCollection(\"LANDSAT/LC08/C02/T1_L2\"\n",
    "             ).filterBounds(geometry\n",
    "             ).filterDate(ee.Date(start).advance(-48, \"day\"), start\n",
    "             ).sort(\"system:time_start\")\n",
    "             \n",
    "    l8_sr = mosaicByDate(l8_sr)\n",
    "\n",
    "    m = folium.Map(location=center, zoom_start=11.25)\n",
    "\n",
    "    for i in range(l8_sr.size().getInfo()):\n",
    "        image = ee.Image(l8_sr.get(i)).clip(geometry)\n",
    "        m.add_ee_layer(image,\n",
    "                       {\"bands\": [\"SR_B7\", \"SR_B5\", \"SR_B3\"], \n",
    "                        \"gamma\": [1.1, 1.1, 1],\n",
    "                        \"min\": 1000, \"max\": 25000},\n",
    "                        image.get(\"mosaicDate\").getInfo())\n",
    "        \n",
    "    m.add_child(folium.LayerControl())\n",
    "    print(fireName, start)\n",
    "    display(m)\n",
    "    print(\"\\n \\n\")"
   ]
  },
  {
   "cell_type": "code",
   "execution_count": null,
   "metadata": {
    "colab": {
     "base_uri": "https://localhost:8080/",
     "height": 1000
    },
    "executionInfo": {
     "elapsed": 69096,
     "status": "ok",
     "timestamp": 1642751676329,
     "user": {
      "displayName": "Anthony Chi",
      "photoUrl": "https://lh3.googleusercontent.com/a/default-user=s64",
      "userId": "08550275860601130108"
     },
     "user_tz": 480
    },
    "id": "fwqm2CzWhdvV",
    "outputId": "96fb9520-92b5-4631-a8ef-fb3ec7bf1f69"
   },
   "outputs": [],
   "source": [
    "# post-fire image selection\n",
    "for fireName, start, geometry in boundsDf[[\"FIRE_NAME\", \"CONT_DATE\", \"geometry\"]].values:  \n",
    "    geometry = ee.Geometry.Rectangle(list(geometry.bounds))\n",
    "    center = geometry.centroid().getInfo()[\"coordinates\"][::-1]\n",
    "\n",
    "    l8_sr = ee.ImageCollection(\"LANDSAT/LC08/C02/T1_L2\"\n",
    "             ).filterBounds(geometry\n",
    "             ).filterDate(ee.Date(start).advance(-16, \"day\"), ee.Date(start).advance(60, \"day\")\n",
    "             ).sort(\"system:time_start\")\n",
    "    \n",
    "    l8_sr = mosaicByDate(l8_sr)\n",
    "    \n",
    "    m = folium.Map(location=center, zoom_start=11.25)\n",
    "\n",
    "    for i in range(l8_sr.size().getInfo()):\n",
    "        image = ee.Image(l8_sr.get(i)).clip(geometry)\n",
    "        m.add_ee_layer(image,\n",
    "                       {\"bands\": [\"SR_B7\", \"SR_B5\", \"SR_B3\"], \n",
    "                        \"gamma\": [1.1, 1.1, 1],\n",
    "                        \"min\": 1000, \"max\": 25000},\n",
    "                        image.get(\"mosaicDate\").getInfo())\n",
    "        \n",
    "    m.add_child(folium.LayerControl())\n",
    "    print(fireName, start)\n",
    "    display(m)\n",
    "    print(\"\\n \\n\")"
   ]
  },
  {
   "cell_type": "code",
   "execution_count": null,
   "metadata": {
    "executionInfo": {
     "elapsed": 210,
     "status": "ok",
     "timestamp": 1642750080768,
     "user": {
      "displayName": "Anthony Chi",
      "photoUrl": "https://lh3.googleusercontent.com/a/default-user=s64",
      "userId": "08550275860601130108"
     },
     "user_tz": 480
    },
    "id": "B572IdE2bhGt"
   },
   "outputs": [],
   "source": [
    "# Selected pre-post fire image dates\n",
    "boundsDf[\"pre-date\"] = [\"2017-10-04\", \"2014-07-24\", \"2017-08-24\", \"2015-09-06\", \"2020-07-15\", \"2018-10-07\",\n",
    "                        \"2018-07-10\", \"2017-10-04\", \"2017-07-16\", \"2014-07-15\", \"2015-07-25\", \"2019-10-01\",\n",
    "                        \"2014-09-03\", \"2017-07-14\", \"2017-09-25\", \"2015-07-27\", \"2019-09-01\"]\n",
    "\n",
    "\n",
    "boundsDf[\"post-date\"] = [\"2017-11-05\", \"2014-09-10\", \"2017-12-14\", \"2015-10-24\", \"2020-09-01\", \"2018-12-26\",\n",
    "                         \"2018-10-14\", \"2017-11-05\", \"2017-10-04\", \"2014-10-03\", \"2015-09-20\", \"2019-11-18\",\n",
    "                         \"2014-10-21\", \"2017-10-18\", \"2017-10-27\", \"2015-08-19\", \"2020-02-24\"]"
   ]
  },
  {
   "cell_type": "code",
   "execution_count": null,
   "metadata": {
    "colab": {
     "base_uri": "https://localhost:8080/",
     "height": 1000
    },
    "executionInfo": {
     "elapsed": 29598,
     "status": "ok",
     "timestamp": 1642753716071,
     "user": {
      "displayName": "Anthony Chi",
      "photoUrl": "https://lh3.googleusercontent.com/a/default-user=s64",
      "userId": "08550275860601130108"
     },
     "user_tz": 480
    },
    "id": "SYitJawLvbUt",
    "outputId": "6e035c6c-f55d-4aab-fbc4-feb3d2cbdad3"
   },
   "outputs": [],
   "source": [
    "# selected pre-post fire images\n",
    "for fireName, preFireDate, postFireDate, geometry in boundsDf[[\"FIRE_NAME\", 'pre-date', \"post-date\", \"geometry\"]].values:\n",
    "    geometry = ee.Geometry.Rectangle(list(geometry.bounds))\n",
    "    center = geometry.centroid().getInfo()[\"coordinates\"][::-1]\n",
    "\n",
    "    preFireImage_l8 = mosaicByDate(ee.ImageCollection(\"LANDSAT/LC08/C02/T1_L2\" \n",
    "                                ).filterBounds(geometry\n",
    "                                ).filterDate(preFireDate,\n",
    "                                                ee.Date(preFireDate).advance(1, \"day\")))\n",
    "\n",
    "    postFireImage_l8 = mosaicByDate(ee.ImageCollection(\"LANDSAT/LC08/C02/T1_L2\"\n",
    "                                ).filterBounds(geometry\n",
    "                                ).filterDate(postFireDate,\n",
    "                                                ee.Date(postFireDate).advance(1, \"day\")))\n",
    "    \n",
    "    preFireImage_l8, postFireImage_l8 = ee.Image(preFireImage_l8.get(0)), ee.Image(postFireImage_l8.get(0))\n",
    "\n",
    "    m = folium.Map(location=center, zoom_start=11.25)\n",
    "    m.add_ee_layer(preFireImage_l8.clip(geometry), \n",
    "                   {\"bands\": [\"SR_B7\", \"SR_B5\", \"SR_B3\"], \n",
    "                    \"gamma\": [1.1, 1.1, 1],\n",
    "                    \"min\": 1000, \"max\": 25000},\n",
    "                     preFireImage_l8.get(\"mosaicDate\").getInfo())\n",
    "    \n",
    "    m.add_ee_layer(postFireImage_l8.clip(geometry), \n",
    "                   {\"bands\": [\"SR_B7\", \"SR_B5\", \"SR_B3\"], \n",
    "                    \"gamma\": [1.1, 1.1, 1],\n",
    "                    \"min\": 1000, \"max\": 25000},\n",
    "                     postFireImage_l8.get(\"mosaicDate\").getInfo())\n",
    "    \n",
    "    m.add_child(folium.LayerControl())     \n",
    "    print(fireName)       \n",
    "    display(m)\n",
    "    print(\"\\n \\n\")"
   ]
  },
  {
   "cell_type": "code",
   "execution_count": null,
   "metadata": {
    "colab": {
     "base_uri": "https://localhost:8080/"
    },
    "executionInfo": {
     "elapsed": 1673,
     "status": "ok",
     "timestamp": 1642750228962,
     "user": {
      "displayName": "Anthony Chi",
      "photoUrl": "https://lh3.googleusercontent.com/a/default-user=s64",
      "userId": "08550275860601130108"
     },
     "user_tz": 480
    },
    "id": "JGTKnI66cEiu",
    "outputId": "aedc5664-7119-4df5-821d-edbda72f43c1"
   },
   "outputs": [],
   "source": [
    "subsetDf.to_file(\"../../data/burned/fireBounds.shp\")  # fire geometry\n",
    "bboxDf.to_file(\"../../data/unburned/bbox.shp\")   # differenced bounding box with buffer\n",
    "boundsDf.to_file(\"../../data/bounds/bounds.shp\")   # bounding box with buffer"
   ]
  }
 ],
 "metadata": {
  "colab": {
   "collapsed_sections": [],
   "name": "fireImageSelection.ipynb",
   "provenance": []
  },
  "kernelspec": {
   "display_name": "Python 3",
   "language": "python",
   "name": "python3"
  },
  "language_info": {
   "codemirror_mode": {
    "name": "ipython",
    "version": 3
   },
   "file_extension": ".py",
   "mimetype": "text/x-python",
   "name": "python",
   "nbconvert_exporter": "python",
   "pygments_lexer": "ipython3",
   "version": "3.9.2"
  }
 },
 "nbformat": 4,
 "nbformat_minor": 1
}
