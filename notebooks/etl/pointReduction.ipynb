{
 "cells": [
  {
   "cell_type": "code",
   "execution_count": null,
   "metadata": {
    "id": "8gZb2q0kVfIv"
   },
   "outputs": [],
   "source": [
    "import ee\n",
    "import folium\n",
    "import numpy as np\n",
    "import time\n",
    "import random\n",
    "import geemap\n",
    "import geopandas as gpd\n",
    "\n",
    "import warnings\n",
    "warnings.filterwarnings('ignore')\n",
    "\n",
    "import os\n",
    "os.chdir(\"../../\")\n",
    "\n",
    "import sys\n",
    "sys.path.insert(0, \"src\")\n",
    "\n",
    "from etl import *\n",
    "from viz import *"
   ]
  },
  {
   "cell_type": "code",
   "execution_count": null,
   "metadata": {
    "colab": {
     "base_uri": "https://localhost:8080/"
    },
    "id": "zypLp07TV5Vz",
    "outputId": "713fb993-c57d-4165-d9b5-5cb8455024e4"
   },
   "outputs": [],
   "source": [
    "ee.Authenticate()"
   ]
  },
  {
   "cell_type": "code",
   "execution_count": null,
   "metadata": {
    "id": "udnXnkKwV5YG"
   },
   "outputs": [],
   "source": [
    "ee.Initialize()"
   ]
  },
  {
   "cell_type": "code",
   "execution_count": null,
   "metadata": {
    "id": "eknz7YVMf_hg"
   },
   "outputs": [],
   "source": [
    "# Load bbox+fire geometries and push to EE as FeatureCollection\n",
    "bbox_df = gpd.read_file(\"data/unburned/bbox.shp\")\n",
    "fireBounds_df = gpd.read_file(\"data/burned/fireBounds.shp\")\n",
    "\n",
    "bbox_EE = geemap.gdf_to_ee(bbox_df, geodesic=True)\n",
    "fireBounds_EE = geemap.gdf_to_ee(fireBounds_df, geodesic=True)"
   ]
  },
  {
   "cell_type": "code",
   "execution_count": null,
   "metadata": {
    "colab": {
     "base_uri": "https://localhost:8080/"
    },
    "id": "IDtGCLayhUzz",
    "outputId": "df4a63b4-1e91-4179-dcc9-b19cc57ac5b8"
   },
   "outputs": [],
   "source": [
    "# can check if data is successfully pushed to EE\n",
    "# print(bbox_EE.size().getInfo(),\n",
    "#       fireBounds_EE.size().getInfo())"
   ]
  },
  {
   "cell_type": "code",
   "execution_count": null,
   "metadata": {
    "id": "Ko2-HUotf_kr"
   },
   "outputs": [],
   "source": [
    "firePts, bboxPts = ee.List([]), ee.List([])\n",
    "\n",
    "for fireName, size in fireBounds_df[[\"FIRE_NAME\", \"GIS_ACRES\"]].values:\n",
    "    if size < 40000:\n",
    "        gridScale = 80\n",
    "    elif size < 90000:\n",
    "        gridScale = 100\n",
    "    elif size < 150000:\n",
    "        gridScale = 110\n",
    "    else:\n",
    "        gridScale = 125\n",
    "\n",
    "    firePts = firePts.add(genSamplePoints(collection=fireBounds_EE,\n",
    "                                          fireName=fireName,\n",
    "                                          gridScale=gridScale-15,\n",
    "                                          pointScale=1/8,\n",
    "                                          seed=random.randint(0, 1e6)))\n",
    "\n",
    "    bboxPts = bboxPts.add(genSamplePoints(collection=bbox_EE,\n",
    "                                          fireName=fireName,\n",
    "                                          gridScale=gridScale+10,\n",
    "                                          pointScale=1/8,\n",
    "                                          seed=random.randint(0, 1e6)))    \n",
    "    \n",
    "# firePts = ee.FeatureCollection(firePts)#.flatten()\n",
    "# bboxPts = ee.FeatureCollection(bboxPts)#.flatten()"
   ]
  },
  {
   "cell_type": "code",
   "execution_count": null,
   "metadata": {
    "colab": {
     "base_uri": "https://localhost:8080/"
    },
    "id": "ZzOZyqfcf_rt",
    "outputId": "3eb3c3f6-8a6c-4aa1-a34d-485b911db574"
   },
   "outputs": [],
   "source": [
    "# Extract points from EE\n",
    "startTime = time.time()\n",
    "\n",
    "firePts_df = formatToGPD(list(fireBounds_df[\"FIRE_NAME\"]), firePts.getInfo())   # 167k points\n",
    "bboxPts_df = formatToGPD(list(fireBounds_df[\"FIRE_NAME\"]), bboxPts.getInfo())   # 165k points\n",
    "\n",
    "print(\"Point Sampling Runtime: {} minutes\".format(np.round((time.time()-startTime)/60, 3)))"
   ]
  },
  {
   "cell_type": "code",
   "execution_count": null,
   "metadata": {
    "id": "ptg-bgYou8HZ"
   },
   "outputs": [],
   "source": [
    "bounds_df = gpd.read_file(\"data/bounds/bounds.shp\")"
   ]
  },
  {
   "cell_type": "code",
   "execution_count": null,
   "metadata": {
    "colab": {
     "base_uri": "https://localhost:8080/"
    },
    "id": "4XpFYo-FWAI1",
    "outputId": "425486bd-25aa-4c28-f18c-c6cbc5597e02"
   },
   "outputs": [],
   "source": [
    "# Loads images and reduces over sample points in EE\n",
    "\n",
    "startTime = time.time()\n",
    "imageLst = ee.List([])\n",
    "fireSampleData, bboxSampleData = [], []\n",
    "\n",
    "for fireName, preFireDate, postFireDate, geometry in bounds_df[[\"FIRE_NAME\", \"pre-date\", \"post-date\", \"geometry\"]].values:\n",
    "    t1 = time.time()\n",
    "    \n",
    "#     firePts.filter(ee.Filter.eq(\"FIRE_NAME\", fireName))\n",
    "#     bboxPts.filter(ee.Filter.eq(\"FIRE_NAME\", fireName))\n",
    "\n",
    "    points = ee.List([geemap.gdf_to_ee(firePts_df[firePts_df[\"FIRE_NAME\"]==fireName]),\n",
    "                      geemap.gdf_to_ee(bboxPts_df[bboxPts_df[\"FIRE_NAME\"]==fireName])])\n",
    "    \n",
    "    # Converts shapely polygon to EE rectangle     \n",
    "    geometry = ee.Geometry.Rectangle(list(geometry.bounds))\n",
    "  \n",
    "    # Loads pre+post fire Landsat 8 images\n",
    "    preFireImage = mosaicByDate(ee.ImageCollection(\"LANDSAT/LC08/C02/T1_L2\"\n",
    "                                 ).filterBounds(geometry\n",
    "                                 ).filterDate(preFireDate,\n",
    "                                              ee.Date(preFireDate).advance(1, \"day\")))\n",
    "\n",
    "    postFireImage = mosaicByDate(ee.ImageCollection(\"LANDSAT/LC08/C02/T1_L2\"\n",
    "                                  ).filterBounds(geometry\n",
    "                                  ).filterDate(postFireDate,\n",
    "                                               ee.Date(postFireDate).advance(1, \"day\")))\n",
    "    \n",
    "    preFireImage, postFireImage = ee.Image(preFireImage.get(0)), ee.Image(postFireImage.get(0))       \n",
    "    combined = prepImage(preFireImage, postFireImage, fireName, geometry, postFireDate)\n",
    "\n",
    "    imageLst = imageLst.add(combined)\n",
    "\n",
    "    # apply reducer and save results\n",
    "    reducedPts = points.map(lambda x: pointReducer(image=combined,\n",
    "                                                   collection=x,\n",
    "                                                   scale=30,\n",
    "                                                   reducer=ee.Reducer.mean()))\n",
    "    # Pulls sample data out of EE\n",
    "    lst_1, lst_2 = reducedPts.getInfo()\n",
    "    \n",
    "    fireSampleData.append(lst_1)\n",
    "    bboxSampleData.append(lst_2)\n",
    "    print(\"{} Runtime: {} minutes\".format(fireName, np.round((time.time()-t1)/60, 3)))\n",
    "    \n",
    "print(\"Total Runtime: {} minutes\".format(np.round((time.time()-startTime)/60, 3)))"
   ]
  },
  {
   "cell_type": "code",
   "execution_count": null,
   "metadata": {
    "id": "Y69Yc-m57dj5"
   },
   "outputs": [],
   "source": [
    "# band names from combined image\n",
    "keys = [\"FIRE_NAME\"] + ee.Image(imageLst.get(0)).bandNames().getInfo()"
   ]
  },
  {
   "cell_type": "code",
   "execution_count": null,
   "metadata": {
    "id": "n4FI1mIz7Siv"
   },
   "outputs": [],
   "source": [
    "# Save sample data as csv\n",
    "saveSampleData(data=fireSampleData,\n",
    "               keys=keys,\n",
    "               geometry=firePts_df[\"geometry\"],\n",
    "               path=\"data/burned/postFireData.csv\")\n",
    "\n",
    "saveSampleData(data=bboxSampleData,\n",
    "               keys=keys,\n",
    "               geometry=bboxPts_df[\"geometry\"],\n",
    "               path=\"data/unburned/postFireData.csv\")"
   ]
  },
  {
   "cell_type": "code",
   "execution_count": null,
   "metadata": {},
   "outputs": [],
   "source": [
    "# df_1 = pd.read_csv(\"data/burned/postFireData.csv\")\n",
    "# df_2 = pd.read_csv(\"data/unburned/postFireData.csv\")"
   ]
  },
  {
   "cell_type": "code",
   "execution_count": null,
   "metadata": {
    "colab": {
     "base_uri": "https://localhost:8080/",
     "height": 1000
    },
    "id": "RNjRF023WAOZ",
    "outputId": "4e607ac5-535b-4d72-a640-7c193f958f20",
    "scrolled": true
   },
   "outputs": [],
   "source": [
    "# post-fire Landsat 8 image, NLCD landcover, and thresholded burn severity as image layers\n",
    "\n",
    "burnPalette = [\"706c1e\", \"4e9d5c\", \"fff70b\", \"ff641b\", \"a41fd6\"]\n",
    "landCoverPalette = [\"A2D6F2\", \"FF7F68\", \"258914\", \"FFF100\", \"7CD860\", \"B99B56\"]\n",
    "\n",
    "for name, date, geometry in bounds_df[[\"FIRE_NAME\", \"post-date\", \"geometry\"]].values:\n",
    "    geometry = ee.Geometry.Rectangle(list(geometry.bounds))\n",
    "    center = geometry.centroid().getInfo()[\"coordinates\"][::-1]\n",
    "\n",
    "    fireImage = ee.Image(imageLst.filter(ee.Filter.eq(\"FIRE_NAME\", name)).get(0)\n",
    "                 ).clip(geometry)\n",
    "\n",
    "    m = folium.Map(location=center, zoom_start=11.25)\n",
    "\n",
    "    m.add_ee_layer(fireImage,\n",
    "                   {\"bands\": [\"SR_B7\", \"SR_B5\", \"SR_B3\"], \n",
    "                    \"gamma\": [1.1, 1.1, 1],\n",
    "                    \"min\": 1000, \"max\": 25000},\n",
    "                    \"Post Fire {}\".format(date))\n",
    "\n",
    "    m.add_ee_layer(fireImage, \n",
    "                  {\"bands\": [\"landCover\"],\n",
    "                   \"min\": 1, \"max\": 6,\n",
    "                   \"palette\": landCoverPalette},\n",
    "                   \"Land Cover\")\n",
    "    \n",
    "    m.add_ee_layer(fireImage, \n",
    "                  {\"bands\": [\"burnSeverity\"],\n",
    "                   \"min\": 1, \"max\": 5,\n",
    "                   \"palette\": burnPalette},\n",
    "                   \"Burn Severity\")\n",
    "    \n",
    "    m.add_child(folium.LayerControl())\n",
    "    print(name)\n",
    "    display(m)    \n",
    "    print(\"\\n \\n\")"
   ]
  },
  {
   "cell_type": "code",
   "execution_count": null,
   "metadata": {
    "id": "r1ehygm-ZjTa"
   },
   "outputs": [],
   "source": []
  }
 ],
 "metadata": {
  "colab": {
   "collapsed_sections": [],
   "name": "pointReduction.ipynb",
   "provenance": []
  },
  "kernelspec": {
   "display_name": "Python 3",
   "language": "python",
   "name": "python3"
  },
  "language_info": {
   "codemirror_mode": {
    "name": "ipython",
    "version": 3
   },
   "file_extension": ".py",
   "mimetype": "text/x-python",
   "name": "python",
   "nbconvert_exporter": "python",
   "pygments_lexer": "ipython3",
   "version": "3.9.10"
  }
 },
 "nbformat": 4,
 "nbformat_minor": 1
}
