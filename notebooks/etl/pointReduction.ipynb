{
 "cells": [
  {
   "cell_type": "code",
   "execution_count": null,
   "metadata": {
    "id": "8gZb2q0kVfIv"
   },
   "outputs": [],
   "source": [
    "import ee\n",
    "import folium\n",
    "import numpy as np\n",
    "import time\n",
    "import random\n",
    "import geemap\n",
    "import geopandas as gpd\n",
    "\n",
    "import sys\n",
    "sys.path.insert(0, \"../../src\")\n",
    "\n",
    "from etl import *\n",
    "from viz import *"
   ]
  },
  {
   "cell_type": "code",
   "execution_count": null,
   "metadata": {
    "colab": {
     "base_uri": "https://localhost:8080/"
    },
    "id": "zypLp07TV5Vz",
    "outputId": "713fb993-c57d-4165-d9b5-5cb8455024e4"
   },
   "outputs": [],
   "source": [
    "ee.Authenticate()"
   ]
  },
  {
   "cell_type": "code",
   "execution_count": null,
   "metadata": {
    "id": "udnXnkKwV5YG"
   },
   "outputs": [],
   "source": [
    "ee.Initialize()"
   ]
  },
  {
   "cell_type": "code",
   "execution_count": null,
   "metadata": {
    "id": "eknz7YVMf_hg"
   },
   "outputs": [],
   "source": [
    "# Load bbox+fire geometries and push to EE as FeatureCollection\n",
    "bbox_df = gpd.read_file(\"../../data/unburned/bbox.shp\")\n",
    "fireBounds_df = gpd.read_file(\"../../data/burned/fireBounds.shp\")\n",
    "\n",
    "bbox_EE = geemap.gdf_to_ee(bbox_df, geodesic=True)\n",
    "fireBounds_EE = geemap.gdf_to_ee(fireBounds_df, geodesic=True)"
   ]
  },
  {
   "cell_type": "code",
   "execution_count": null,
   "metadata": {
    "colab": {
     "base_uri": "https://localhost:8080/"
    },
    "id": "IDtGCLayhUzz",
    "outputId": "df4a63b4-1e91-4179-dcc9-b19cc57ac5b8"
   },
   "outputs": [],
   "source": [
    "# can check if data is successfully pushed to EE\n",
    "# print(bbox_EE.size().getInfo(),\n",
    "#       fireBounds_EE.size().getInfo())"
   ]
  },
  {
   "cell_type": "code",
   "execution_count": null,
   "metadata": {
    "id": "Ko2-HUotf_kr"
   },
   "outputs": [],
   "source": [
    "firePts, bboxPts = ee.List([]), ee.List([])\n",
    "\n",
    "for name, size in fireBounds_df[[\"FIRE_NAME\", \"GIS_ACRES\"]].values:\n",
    "    if size < 40000:\n",
    "        gridScale = 80\n",
    "    elif size < 90000:\n",
    "        gridScale = 100\n",
    "    elif size < 150000:\n",
    "        gridScale = 110\n",
    "    else:\n",
    "        gridScale = 125\n",
    "\n",
    "    firePts = firePts.add(genSamplePoints(feature=fireBounds_EE.filter(ee.Filter.eq(\"FIRE_NAME\", name)),\n",
    "                                          gridScale=gridScale-15,\n",
    "                                          pointScale=1/8,\n",
    "                                          seed=random.randint(0, 1e6)))\n",
    "    \n",
    "    bboxPts = bboxPts.add(genSamplePoints(feature=bbox_EE.filter(ee.Filter.eq(\"FIRE_NAME\", name)),\n",
    "                                          gridScale=gridScale+10,\n",
    "                                          pointScale=1/8,\n",
    "                                          seed=random.randint(0, 1e6)))"
   ]
  },
  {
   "cell_type": "code",
   "execution_count": null,
   "metadata": {
    "colab": {
     "base_uri": "https://localhost:8080/"
    },
    "id": "ZzOZyqfcf_rt",
    "outputId": "3eb3c3f6-8a6c-4aa1-a34d-485b911db574"
   },
   "outputs": [],
   "source": [
    "startTime = time.time()\n",
    "\n",
    "firePts_df = formatToGPD(list(fireBounds_df[\"FIRE_NAME\"]), firePts.getInfo())   # 167k points\n",
    "bboxPts_df = formatToGPD(list(fireBounds_df[\"FIRE_NAME\"]), bboxPts.getInfo())   # 165k points\n",
    "\n",
    "print(\"Point Sampling Runtime: {} minutes\".format(np.round((time.time()-startTime)/60, 3)))"
   ]
  },
  {
   "cell_type": "code",
   "execution_count": null,
   "metadata": {
    "id": "ptg-bgYou8HZ"
   },
   "outputs": [],
   "source": [
    "bounds_df = gpd.read_file(\"../../data/bounds/bounds.shp\")"
   ]
  },
  {
   "cell_type": "code",
   "execution_count": 1,
   "metadata": {
    "colab": {
     "base_uri": "https://localhost:8080/"
    },
    "id": "4XpFYo-FWAI1",
    "outputId": "425486bd-25aa-4c28-f18c-c6cbc5597e02"
   },
   "outputs": [
    {
     "ename": "NameError",
     "evalue": "name 'time' is not defined",
     "output_type": "error",
     "traceback": [
      "\u001b[1;31m---------------------------------------------------------------------------\u001b[0m",
      "\u001b[1;31mNameError\u001b[0m                                 Traceback (most recent call last)",
      "Input \u001b[1;32mIn [1]\u001b[0m, in \u001b[0;36m<module>\u001b[1;34m\u001b[0m\n\u001b[0;32m      1\u001b[0m \u001b[38;5;66;03m# Reduce data over sample points in EE\u001b[39;00m\n\u001b[1;32m----> 2\u001b[0m startTime \u001b[38;5;241m=\u001b[39m \u001b[43mtime\u001b[49m\u001b[38;5;241m.\u001b[39mtime()\n\u001b[0;32m      3\u001b[0m imageLst \u001b[38;5;241m=\u001b[39m ee\u001b[38;5;241m.\u001b[39mList([])\n\u001b[0;32m      4\u001b[0m fireSampleData, bboxSampleData \u001b[38;5;241m=\u001b[39m [], []\n",
      "\u001b[1;31mNameError\u001b[0m: name 'time' is not defined"
     ]
    }
   ],
   "source": [
    "# Reduce data over sample points in EE\n",
    "startTime = time.time()\n",
    "imageLst = ee.List([])\n",
    "fireSampleData, bboxSampleData = [], []\n",
    "\n",
    "for fireName, preFireDate, postFireDate, geometry in bounds_df[[\"FIRE_NAME\", \"pre-date\", \"post-date\", \"geometry\"]].values[11:]:\n",
    "    t1 = time.time()\n",
    "\n",
    "    firePts_EE = geemap.gdf_to_ee(firePts_df[firePts_df[\"FIRE_NAME\"]==fireName])\n",
    "    bboxPts_EE = geemap.gdf_to_ee(bboxPts_df[bboxPts_df[\"FIRE_NAME\"]==fireName])\n",
    "    points = ee.List([firePts_EE, bboxPts_EE])\n",
    "\n",
    "    geometry = ee.Geometry.Rectangle(list(geometry.bounds))\n",
    "\n",
    "    # Get pre-post fire Landsat 8 images\n",
    "    preFireImage_l8 = mosaicByDate(ee.ImageCollection(\"LANDSAT/LC08/C02/T1_L2\"\n",
    "                                    ).filterBounds(geometry\n",
    "                                    ).filterDate(preFireDate,\n",
    "                                                 ee.Date(preFireDate).advance(1, \"day\")))\n",
    "\n",
    "    postFireImage_l8 = mosaicByDate(ee.ImageCollection(\"LANDSAT/LC08/C02/T1_L2\"\n",
    "                                     ).filterBounds(geometry\n",
    "                                     ).filterDate(postFireDate,\n",
    "                                                  ee.Date(postFireDate).advance(1, \"day\")))\n",
    "\n",
    "    preFireImage_l8, postFireImage_l8 = ee.Image(preFireImage_l8.get(0)), ee.Image(postFireImage_l8.get(0))\n",
    "\n",
    "    # Calculate NBR, dNBR, and burn severity\n",
    "    preFireNBR = preFireImage_l8.normalizedDifference(['SR_B5', 'SR_B7'])\n",
    "    postFireNBR = postFireImage_l8.normalizedDifference(['SR_B5', 'SR_B7'])\n",
    "    dNBR = (preFireNBR.subtract(postFireNBR)).multiply(1000).rename(\"dNBR\")\n",
    "\n",
    "    burnSeverity = dNBR.expression(\" (b('dNBR') > 425) ? 4 \"    # purple: high severity\n",
    "                                   \":(b('dNBR') > 225) ? 3 \"    # orange: moderate severity\n",
    "                                   \":(b('dNBR') > 100) ? 2 \"    # yellow: low severity\n",
    "                                   \":(b('dNBR') > -60) ? 1 \"    # green: unburned/unchanged\n",
    "                                   \":0\"                         # brown: vegetation growth\n",
    "                      ).rename(\"burnSeverity\")\n",
    "    \n",
    "    # Get SRTM elevation, NLCD land cover, NDVI, and GRIDMET weather\n",
    "    dem = ee.Image(\"NASA/NASADEM_HGT/001\").select(\"elevation\")\n",
    "    nlcd2016 = ee.ImageCollection('USGS/NLCD_RELEASES/2016_REL'\n",
    "                ).filter(ee.Filter.eq('system:index', '2016')).first()\n",
    "    \n",
    "    ndvi = postFireImage_l8.normalizedDifference([\"SR_B5\", \"SR_B4\"]).rename(\"NDVI\")\n",
    "    \n",
    "    gridmet = ee.ImageCollection(\"IDAHO_EPSCOR/GRIDMET\"\n",
    "               ).filterBounds(geometry\n",
    "               ).filterDate(ee.Date(postFireDate).advance(-3, \"day\"), postFireDate\n",
    "               ).mean()\n",
    "\n",
    "    # Merge all image bands together\n",
    "    combined = postFireImage_l8.select('SR_B.'          # post-fire L8 bands 1-7\n",
    "                              ).addBands(burnSeverity   # classified burn severity\n",
    "                              ).addBands(dNBR           # dNBR\n",
    "                              ).addBands(ndvi           # post-fire NDVI\n",
    "                              ).addBands(dem            # SRTM elevation\n",
    "                              ).addBands(gridmet        # all GRIDMET bands\n",
    "                              ).addBands(nlcd2016       # all NLCD bands\n",
    "                              ).set(\"FIRE_NAME\", fireName)\n",
    "\n",
    "    imageLst = imageLst.add(combined)\n",
    "\n",
    "    # apply reducer and save results\n",
    "    reducedPts = points.map(lambda x: pointReducer(image=combined,\n",
    "                                                   collection=x,\n",
    "                                                   scale=30,\n",
    "                                                   reducer=ee.Reducer.mean()))\n",
    "    lst_1, lst_2 = reducedPts.getInfo()\n",
    "\n",
    "    fireSampleData.append(lst_1)\n",
    "    bboxSampleData.append(lst_2)\n",
    "    print(\"{} Runtime: {} minutes\".format(fireName, np.round((time.time()-t1)/60, 3)))\n",
    "    \n",
    "print(\"Total Runtime: {} minutes\".format(np.round((time.time()-startTime)/60, 3)))"
   ]
  },
  {
   "cell_type": "code",
   "execution_count": null,
   "metadata": {
    "id": "Y69Yc-m57dj5"
   },
   "outputs": [],
   "source": [
    "# band names from combined image\n",
    "keys = [\"FIRE_NAME\"] + ee.Image(imageLst.get(0)).bandNames().getInfo()"
   ]
  },
  {
   "cell_type": "code",
   "execution_count": null,
   "metadata": {
    "id": "n4FI1mIz7Siv"
   },
   "outputs": [],
   "source": [
    "# Save as csv\n",
    "\n",
    "# 167k fire points\n",
    "saveSampleData(data=fireSampleData,\n",
    "               keys=keys,\n",
    "               geometry=firePts_df[\"geometry\"],\n",
    "               path=\"../../data/burned/sampleData.csv\")\n",
    "\n",
    "# 165k bbox points\n",
    "saveSampleData(data=bboxSampleData,\n",
    "               keys=keys,\n",
    "               geometry=bboxPts_df[\"geometry\"],\n",
    "               path=\"../../data/unburned/sampleData.csv\")"
   ]
  },
  {
   "cell_type": "code",
   "execution_count": null,
   "metadata": {
    "colab": {
     "base_uri": "https://localhost:8080/",
     "height": 1000
    },
    "id": "RNjRF023WAOZ",
    "outputId": "4e607ac5-535b-4d72-a640-7c193f958f20"
   },
   "outputs": [],
   "source": [
    "# viz for every fire with post-fire Landsat 8 image, NLCD landcover, and classified burn severity as image layers\n",
    "\n",
    "burnPalette = [\"706c1e\", \"4e9d5c\", \"fff70b\", \"ff641b\", \"a41fd6\"]\n",
    "\n",
    "landCoverPalette = [\"466b9f\", \"d1def8\", \"dec5c5\", \"d99282\", \"eb0000\",\n",
    "                    \"ab0000\", \"b3ac9f\", \"68ab5f\", \"1c5f2c\", \"b5c58f\",\n",
    "                    \"af963c\", \"ccb879\", \"dfdfc2\", \"d1d182\", \"a3cc51\",\n",
    "                    \"82ba9e\", \"dcd939\", \"ab6c28\", \"b8d9eb\", \"6c9fb8\"]\n",
    "\n",
    "\n",
    "for name, date, geometry in bounds_df[[\"FIRE_NAME\", \"post-date\", \"geometry\"]].values:\n",
    "    geometry = ee.Geometry.Rectangle(list(geometry.bounds))\n",
    "    center = geometry.centroid().getInfo()[\"coordinates\"][::-1]\n",
    "\n",
    "    fireImage = ee.Image(imageLst.filter(ee.Filter.eq(\"FIRE_NAME\", name)).get(0)\n",
    "                 ).clip(geometry)\n",
    "\n",
    "    m = folium.Map(location=center, zoom_start=11.25)\n",
    "\n",
    "    m.add_ee_layer(fireImage,\n",
    "                   {\"bands\": [\"SR_B7\", \"SR_B5\", \"SR_B3\"], \n",
    "                    \"gamma\": [1.1, 1.1, 1],\n",
    "                    \"min\": 1000, \"max\": 25000},\n",
    "                    \"Post Fire {}\".format(date))\n",
    "\n",
    "    m.add_ee_layer(fireImage, \n",
    "                  {\"bands\": [\"landcover\"],\n",
    "                   \"palette\": landCoverPalette},\n",
    "                   \"Land Cover\")\n",
    "    \n",
    "    m.add_ee_layer(fireImage, \n",
    "                  {\"bands\": [\"burnSeverity\"],\n",
    "                   \"min\": 0, \"max\": 4,\n",
    "                   \"palette\": burnPalette},\n",
    "                   \"Burn Severity\")\n",
    "    \n",
    "\n",
    "    m.add_child(folium.LayerControl())\n",
    "    print(name)\n",
    "    display(m)    \n",
    "    print(\"\\n \\n\")"
   ]
  },
  {
   "cell_type": "code",
   "execution_count": null,
   "metadata": {
    "id": "r1ehygm-ZjTa"
   },
   "outputs": [],
   "source": []
  }
 ],
 "metadata": {
  "colab": {
   "collapsed_sections": [],
   "name": "pointReduction.ipynb",
   "provenance": []
  },
  "kernelspec": {
   "display_name": "Python 3 (ipykernel)",
   "language": "python",
   "name": "python3"
  },
  "language_info": {
   "codemirror_mode": {
    "name": "ipython",
    "version": 3
   },
   "file_extension": ".py",
   "mimetype": "text/x-python",
   "name": "python",
   "nbconvert_exporter": "python",
   "pygments_lexer": "ipython3",
   "version": "3.10.2"
  }
 },
 "nbformat": 4,
 "nbformat_minor": 1
}
