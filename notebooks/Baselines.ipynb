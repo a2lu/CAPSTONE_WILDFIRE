{
 "cells": [
  {
   "cell_type": "code",
   "execution_count": 1,
   "id": "040f785a",
   "metadata": {},
   "outputs": [],
   "source": [
    "import geopandas as gpd\n",
    "import pandas as pd\n",
    "from datetime import datetime, timedelta\n",
    "from shapely.geometry import Polygon, LineString, MultiPolygon\n",
    "from shapely.ops import split\n",
    "import time\n",
    "import matplotlib.pyplot as plt\n",
    "%matplotlib inline\n",
    "import numpy as np\n",
    "import copy\n",
    "import pandas as pd\n",
    "import sklearn\n",
    "from sklearn.linear_model import LinearRegression\n",
    "from sklearn import preprocessing\n",
    "from sklearn.linear_model import LogisticRegression\n",
    "from sklearn.model_selection import train_test_split\n",
    "from sklearn.pipeline import make_pipeline\n",
    "from sklearn.preprocessing import StandardScaler\n",
    "from sklearn.tree import DecisionTreeRegressor\n",
    "from sklearn.ensemble import RandomForestRegressor\n",
    "from sklearn.neural_network import MLPClassifier\n",
    "from sklearn.ensemble import RandomForestClassifier\n",
    "from sklearn.model_selection import GridSearchCV\n",
    "from sklearn.preprocessing import OneHotEncoder\n",
    "from sklearn.metrics import confusion_matrix"
   ]
  },
  {
   "cell_type": "code",
   "execution_count": 17,
   "id": "d6417008",
   "metadata": {},
   "outputs": [],
   "source": [
    "burned = gpd.read_file(\"../data/burned/sampleData.csv\")\n",
    "unburned = gpd.read_file(\"../data/unburned/sampleData.csv\")"
   ]
  },
  {
   "cell_type": "code",
   "execution_count": 18,
   "id": "6c5d5bdc",
   "metadata": {},
   "outputs": [],
   "source": [
    "temp1 = gpd.GeoDataFrame()\n",
    "temp2 = gpd.GeoDataFrame()\n",
    "for i in np.unique(burned['FIRE_NAME']):\n",
    "    temp1 = pd.concat([temp1,burned[burned['FIRE_NAME']==i]])\n",
    "    temp2 = pd.concat([temp2,unburned[unburned['FIRE_NAME']==i]])"
   ]
  },
  {
   "cell_type": "code",
   "execution_count": 19,
   "id": "6dec9631",
   "metadata": {},
   "outputs": [],
   "source": [
    "df = pd.concat([temp1,temp2])"
   ]
  },
  {
   "cell_type": "code",
   "execution_count": null,
   "id": "b9aece9f",
   "metadata": {},
   "outputs": [],
   "source": [
    "classes = {1: \"other\",       # open water / perennial ice+snow\n",
    "           2: \"developed\",\n",
    "           3: \"other\",       # barren land\n",
    "           4: \"forest\",\n",
    "           5: \"shrub\",\n",
    "           7: \"grassland/herbaceous\",\n",
    "           8: \"agriculture\",\n",
    "           9: \"other\"}       # wetland\n",
    " \n",
    "df['landcover'] = df[\"landcover\"].apply(lambda x: classes[int(x)//10])"
   ]
  },
  {
   "cell_type": "code",
   "execution_count": 62,
   "id": "9d9a7785",
   "metadata": {},
   "outputs": [
    {
     "name": "stderr",
     "output_type": "stream",
     "text": [
      "<ipython-input-62-50bcc58fbb83>:3: SettingWithCopyWarning: \n",
      "A value is trying to be set on a copy of a slice from a DataFrame.\n",
      "Try using .loc[row_indexer,col_indexer] = value instead\n",
      "\n",
      "See the caveats in the documentation: https://pandas.pydata.org/pandas-docs/stable/user_guide/indexing.html#returning-a-view-versus-a-copy\n",
      "  clean_df[i]=pd.to_numeric(clean_df[i], errors='coerce')\n"
     ]
    },
    {
     "data": {
      "text/html": [
       "<div>\n",
       "<style scoped>\n",
       "    .dataframe tbody tr th:only-of-type {\n",
       "        vertical-align: middle;\n",
       "    }\n",
       "\n",
       "    .dataframe tbody tr th {\n",
       "        vertical-align: top;\n",
       "    }\n",
       "\n",
       "    .dataframe thead th {\n",
       "        text-align: right;\n",
       "    }\n",
       "</style>\n",
       "<table border=\"1\" class=\"dataframe\">\n",
       "  <thead>\n",
       "    <tr style=\"text-align: right;\">\n",
       "      <th></th>\n",
       "      <th>burnSeverity</th>\n",
       "      <th>SR_B6</th>\n",
       "      <th>NDVI</th>\n",
       "      <th>elevation</th>\n",
       "      <th>percent_tree_cover</th>\n",
       "      <th>x_coord</th>\n",
       "      <th>y_coord</th>\n",
       "    </tr>\n",
       "  </thead>\n",
       "  <tbody>\n",
       "    <tr>\n",
       "      <th>0</th>\n",
       "      <td>2</td>\n",
       "      <td>15058</td>\n",
       "      <td>0.212274</td>\n",
       "      <td>168</td>\n",
       "      <td>41</td>\n",
       "      <td>-185709.062502</td>\n",
       "      <td>35992.187398</td>\n",
       "    </tr>\n",
       "    <tr>\n",
       "      <th>1</th>\n",
       "      <td>1</td>\n",
       "      <td>15731</td>\n",
       "      <td>0.270679</td>\n",
       "      <td>138</td>\n",
       "      <td>13</td>\n",
       "      <td>-185825.937502</td>\n",
       "      <td>35843.437398</td>\n",
       "    </tr>\n",
       "    <tr>\n",
       "      <th>2</th>\n",
       "      <td>1</td>\n",
       "      <td>13635</td>\n",
       "      <td>0.244286</td>\n",
       "      <td>129</td>\n",
       "      <td>29</td>\n",
       "      <td>-185825.937502</td>\n",
       "      <td>37681.562398</td>\n",
       "    </tr>\n",
       "    <tr>\n",
       "      <th>3</th>\n",
       "      <td>1</td>\n",
       "      <td>11935</td>\n",
       "      <td>0.239246</td>\n",
       "      <td>102</td>\n",
       "      <td>32</td>\n",
       "      <td>-185857.812502</td>\n",
       "      <td>35630.937398</td>\n",
       "    </tr>\n",
       "    <tr>\n",
       "      <th>4</th>\n",
       "      <td>1</td>\n",
       "      <td>14894</td>\n",
       "      <td>0.229572</td>\n",
       "      <td>165</td>\n",
       "      <td>0</td>\n",
       "      <td>-185868.437502</td>\n",
       "      <td>36310.937398</td>\n",
       "    </tr>\n",
       "    <tr>\n",
       "      <th>...</th>\n",
       "      <td>...</td>\n",
       "      <td>...</td>\n",
       "      <td>...</td>\n",
       "      <td>...</td>\n",
       "      <td>...</td>\n",
       "      <td>...</td>\n",
       "      <td>...</td>\n",
       "    </tr>\n",
       "    <tr>\n",
       "      <th>165052</th>\n",
       "      <td>1</td>\n",
       "      <td>9964</td>\n",
       "      <td>0.254991</td>\n",
       "      <td>1624</td>\n",
       "      <td>68</td>\n",
       "      <td>-61923.125001</td>\n",
       "      <td>230745.624897</td>\n",
       "    </tr>\n",
       "    <tr>\n",
       "      <th>165053</th>\n",
       "      <td>1</td>\n",
       "      <td>11546</td>\n",
       "      <td>0.307321</td>\n",
       "      <td>1726</td>\n",
       "      <td>67</td>\n",
       "      <td>-61923.125001</td>\n",
       "      <td>231199.374897</td>\n",
       "    </tr>\n",
       "    <tr>\n",
       "      <th>165054</th>\n",
       "      <td>1</td>\n",
       "      <td>9097</td>\n",
       "      <td>0.245669</td>\n",
       "      <td>2078</td>\n",
       "      <td>60</td>\n",
       "      <td>-61923.125001</td>\n",
       "      <td>235131.874897</td>\n",
       "    </tr>\n",
       "    <tr>\n",
       "      <th>165055</th>\n",
       "      <td>0</td>\n",
       "      <td>9832</td>\n",
       "      <td>-0.040084</td>\n",
       "      <td>2296</td>\n",
       "      <td>0</td>\n",
       "      <td>-61923.125001</td>\n",
       "      <td>236190.624897</td>\n",
       "    </tr>\n",
       "    <tr>\n",
       "      <th>165056</th>\n",
       "      <td>1</td>\n",
       "      <td>9572</td>\n",
       "      <td>0.291642</td>\n",
       "      <td>1507</td>\n",
       "      <td>70</td>\n",
       "      <td>-62046.875001</td>\n",
       "      <td>222138.124897</td>\n",
       "    </tr>\n",
       "  </tbody>\n",
       "</table>\n",
       "<p>332294 rows × 7 columns</p>\n",
       "</div>"
      ],
      "text/plain": [
       "        burnSeverity  SR_B6      NDVI  elevation  percent_tree_cover  \\\n",
       "0                  2  15058  0.212274        168                  41   \n",
       "1                  1  15731  0.270679        138                  13   \n",
       "2                  1  13635  0.244286        129                  29   \n",
       "3                  1  11935  0.239246        102                  32   \n",
       "4                  1  14894  0.229572        165                   0   \n",
       "...              ...    ...       ...        ...                 ...   \n",
       "165052             1   9964  0.254991       1624                  68   \n",
       "165053             1  11546  0.307321       1726                  67   \n",
       "165054             1   9097  0.245669       2078                  60   \n",
       "165055             0   9832 -0.040084       2296                   0   \n",
       "165056             1   9572  0.291642       1507                  70   \n",
       "\n",
       "              x_coord        y_coord  \n",
       "0      -185709.062502   35992.187398  \n",
       "1      -185825.937502   35843.437398  \n",
       "2      -185825.937502   37681.562398  \n",
       "3      -185857.812502   35630.937398  \n",
       "4      -185868.437502   36310.937398  \n",
       "...               ...            ...  \n",
       "165052  -61923.125001  230745.624897  \n",
       "165053  -61923.125001  231199.374897  \n",
       "165054  -61923.125001  235131.874897  \n",
       "165055  -61923.125001  236190.624897  \n",
       "165056  -62046.875001  222138.124897  \n",
       "\n",
       "[332294 rows x 7 columns]"
      ]
     },
     "execution_count": 62,
     "metadata": {},
     "output_type": "execute_result"
    }
   ],
   "source": [
    "clean_df = df[['burnSeverity','SR_B3','SR_B6','NDVI','elevation','percent_tree_cover','x_coord','y_coord']]\n",
    "for i in clean_df.columns:\n",
    "    clean_df[i]=pd.to_numeric(clean_df[i], errors='coerce')\n",
    "clean_df"
   ]
  },
  {
   "cell_type": "code",
   "execution_count": 63,
   "id": "037b200d",
   "metadata": {},
   "outputs": [
    {
     "name": "stderr",
     "output_type": "stream",
     "text": [
      "/Users/alicelu/opt/anaconda3/lib/python3.8/site-packages/pandas/core/series.py:4463: SettingWithCopyWarning: \n",
      "A value is trying to be set on a copy of a slice from a DataFrame\n",
      "\n",
      "See the caveats in the documentation: https://pandas.pydata.org/pandas-docs/stable/user_guide/indexing.html#returning-a-view-versus-a-copy\n",
      "  return super().fillna(\n"
     ]
    },
    {
     "data": {
      "text/plain": [
       "array([[ 9.80646988e-01,  5.04573752e-01, -1.46185547e+00,\n",
       "         1.11117156e-01, -8.72913561e-02, -1.47025787e+00],\n",
       "       [ 1.22420023e+00,  1.12733938e+00, -1.51868342e+00,\n",
       "        -8.22921042e-01, -8.86269727e-02, -1.47134951e+00],\n",
       "       [ 4.65674827e-01,  8.45917045e-01, -1.53573181e+00,\n",
       "        -2.89184929e-01, -8.86269727e-02, -1.45785993e+00],\n",
       "       ...,\n",
       "       [-1.17659057e+00,  8.60658554e-01,  2.15619113e+00,\n",
       "         7.44928790e-01,  1.32730160e+00, -8.81657583e-03],\n",
       "       [-9.10600035e-01, -2.18633244e+00,  2.56914095e+00,\n",
       "        -1.25658163e+00,  1.32730160e+00, -1.04664816e-03],\n",
       "       [-1.00469193e+00,  1.35087582e+00,  1.07456568e+00,\n",
       "         1.07851386e+00,  1.32588742e+00, -1.04174779e-01]])"
      ]
     },
     "execution_count": 63,
     "metadata": {},
     "output_type": "execute_result"
    }
   ],
   "source": [
    "for i in clean_df.columns:\n",
    "    clean_df[i].fillna(value=clean_df[i].mean(), inplace=True)\n",
    "X_train = clean_df.drop(['burnSeverity'],axis=1)\n",
    "scaler = preprocessing.StandardScaler().fit(X_train.values)\n",
    "X_scaled = scaler.transform(X_train)\n",
    "X_scaled"
   ]
  },
  {
   "cell_type": "code",
   "execution_count": 11,
   "id": "f0b5ba1e",
   "metadata": {},
   "outputs": [
    {
     "name": "stderr",
     "output_type": "stream",
     "text": [
      "/Users/alicelu/opt/anaconda3/lib/python3.8/site-packages/sklearn/utils/validation.py:63: DataConversionWarning: A column-vector y was passed when a 1d array was expected. Please change the shape of y to (n_samples, ), for example using ravel().\n",
      "  return f(*args, **kwargs)\n"
     ]
    },
    {
     "name": "stdout",
     "output_type": "stream",
     "text": [
      "Logistic Regression: 0.7537278622910366\n",
      "SR_B3: 3.150200487348103\n",
      "SR_B6: -3.51634777256248\n",
      "NDVI: 4.362382716683548\n",
      "elevation: -0.12828737014299596\n",
      "landcover: -0.20783207907246032\n",
      "percent_tree_cover: -2.687288523003459\n",
      "x_coord: 0.7469564247084589\n",
      "y_coord: 0.19686400559132\n"
     ]
    },
    {
     "name": "stderr",
     "output_type": "stream",
     "text": [
      "/Users/alicelu/opt/anaconda3/lib/python3.8/site-packages/sklearn/linear_model/_logistic.py:763: ConvergenceWarning: lbfgs failed to converge (status=1):\n",
      "STOP: TOTAL NO. of ITERATIONS REACHED LIMIT.\n",
      "\n",
      "Increase the number of iterations (max_iter) or scale the data as shown in:\n",
      "    https://scikit-learn.org/stable/modules/preprocessing.html\n",
      "Please also refer to the documentation for alternative solver options:\n",
      "    https://scikit-learn.org/stable/modules/linear_model.html#logistic-regression\n",
      "  n_iter_i = _check_optimize_result(\n"
     ]
    },
    {
     "data": {
      "text/plain": [
       "['SR_B3', 'NDVI', 'x_coord', 'y_coord']"
      ]
     },
     "execution_count": 11,
     "metadata": {},
     "output_type": "execute_result"
    }
   ],
   "source": [
    "lab_enc = preprocessing.LabelEncoder()\n",
    "encoded = lab_enc.fit_transform(clean_df[['burnSeverity']].values)\n",
    "x_train, x_test, y_train, y_test = train_test_split(X_scaled, encoded,test_size=0.2)\n",
    "pipe = LogisticRegression()\n",
    "pipe.fit(x_train, y_train)\n",
    "print(\"Logistic Regression: \"+str(pipe.score(x_test, y_test)))\n",
    "importance = pipe.coef_[0]\n",
    "keep = []\n",
    "for i in range(len(X_train.columns)):\n",
    "    print(X_train.columns[i]+\": \"+str(importance[i]))\n",
    "    if importance[i] >= 0.02:\n",
    "        keep.append(X_train.columns[i])\n",
    "keep"
   ]
  },
  {
   "cell_type": "code",
   "execution_count": 65,
   "id": "7487a7af",
   "metadata": {},
   "outputs": [
    {
     "name": "stderr",
     "output_type": "stream",
     "text": [
      "/Users/alicelu/opt/anaconda3/lib/python3.8/site-packages/sklearn/utils/validation.py:63: DataConversionWarning: A column-vector y was passed when a 1d array was expected. Please change the shape of y to (n_samples, ), for example using ravel().\n",
      "  return f(*args, **kwargs)\n"
     ]
    },
    {
     "data": {
      "text/plain": [
       "0.804872176830828"
      ]
     },
     "execution_count": 65,
     "metadata": {},
     "output_type": "execute_result"
    }
   ],
   "source": [
    "lab_enc = preprocessing.LabelEncoder()\n",
    "encoded = lab_enc.fit_transform(clean_df[['burnSeverity']].values)\n",
    "x_train, x_test, y_train, y_test = train_test_split(X_scaled, encoded,test_size=0.2)\n",
    "clf = MLPClassifier(max_iter=300).fit(x_train, y_train)\n",
    "clf.score(x_test, y_test)"
   ]
  },
  {
   "cell_type": "code",
   "execution_count": 64,
   "id": "6224e46a",
   "metadata": {},
   "outputs": [
    {
     "name": "stderr",
     "output_type": "stream",
     "text": [
      "/Users/alicelu/opt/anaconda3/lib/python3.8/site-packages/sklearn/utils/validation.py:63: DataConversionWarning: A column-vector y was passed when a 1d array was expected. Please change the shape of y to (n_samples, ), for example using ravel().\n",
      "  return f(*args, **kwargs)\n"
     ]
    },
    {
     "data": {
      "text/plain": [
       "0.8461607908635399"
      ]
     },
     "execution_count": 64,
     "metadata": {},
     "output_type": "execute_result"
    }
   ],
   "source": [
    "lab_enc = preprocessing.LabelEncoder()\n",
    "encoded = lab_enc.fit_transform(clean_df[['burnSeverity']].values)\n",
    "x_train, x_test, y_train, y_test = train_test_split(X_scaled, encoded,test_size=0.2)\n",
    "clf = RandomForestClassifier()\n",
    "clf.fit(x_train, y_train)\n",
    "clf.score(x_test, y_test)"
   ]
  },
  {
   "cell_type": "code",
   "execution_count": 50,
   "id": "9f425bad",
   "metadata": {},
   "outputs": [
    {
     "name": "stderr",
     "output_type": "stream",
     "text": [
      "/Users/alicelu/opt/anaconda3/lib/python3.8/site-packages/sklearn/utils/validation.py:63: DataConversionWarning: A column-vector y was passed when a 1d array was expected. Please change the shape of y to (n_samples, ), for example using ravel().\n",
      "  return f(*args, **kwargs)\n"
     ]
    },
    {
     "name": "stdout",
     "output_type": "stream",
     "text": [
      "0\n",
      "1\n",
      "2\n",
      "3\n",
      "4\n",
      "5\n",
      "6\n",
      "7\n",
      "8\n",
      "9\n"
     ]
    }
   ],
   "source": [
    "lab_enc = preprocessing.LabelEncoder()\n",
    "encoded = lab_enc.fit_transform(clean_df[['burnSeverity']].values)\n",
    "scores = []\n",
    "for i in range(0,10):\n",
    "    x_train, x_test, y_train, y_test = train_test_split(X_scaled, encoded,test_size=0.2)\n",
    "    clf = RandomForestClassifier()\n",
    "    clf.fit(x_train, y_train)\n",
    "    scores.append(clf.score(x_test, y_test))"
   ]
  },
  {
   "cell_type": "code",
   "execution_count": 51,
   "id": "8fca0780",
   "metadata": {},
   "outputs": [
    {
     "data": {
      "text/plain": [
       "[0.8521795392648099,\n",
       " 0.8549481635293941,\n",
       " 0.8555650852405242,\n",
       " 0.852871695330956,\n",
       " 0.8521644923938068,\n",
       " 0.8534434764290766,\n",
       " 0.8548277885613687,\n",
       " 0.8553393821754766,\n",
       " 0.8536691794941242,\n",
       " 0.8543914293022766]"
      ]
     },
     "execution_count": 51,
     "metadata": {},
     "output_type": "execute_result"
    }
   ],
   "source": [
    "scores"
   ]
  },
  {
   "cell_type": "code",
   "execution_count": 14,
   "id": "617e7617",
   "metadata": {},
   "outputs": [],
   "source": [
    "y_pred = clf.predict(x_test)"
   ]
  },
  {
   "cell_type": "code",
   "execution_count": 15,
   "id": "5c0b7cdb",
   "metadata": {},
   "outputs": [
    {
     "data": {
      "text/plain": [
       "array([[  457,   536,     3,     2,     0],\n",
       "       [   85, 38826,  2155,    62,     0],\n",
       "       [    7,  3204, 11136,  1077,     1],\n",
       "       [    0,    82,  1621,  6340,   103],\n",
       "       [    0,     2,     8,   469,   283]])"
      ]
     },
     "execution_count": 15,
     "metadata": {},
     "output_type": "execute_result"
    }
   ],
   "source": [
    "confusion_matrix(y_test, y_pred)"
   ]
  },
  {
   "cell_type": "code",
   "execution_count": null,
   "id": "55c4cec8",
   "metadata": {},
   "outputs": [],
   "source": [
    "importance = clf.feature_importances_\n",
    "keep = []\n",
    "for i in range(len(X_train.columns)):\n",
    "    print(X_train.columns[i]+\": \"+str(importance[i]))\n",
    "    if importance[i] >= 0.02:\n",
    "        keep.append(X_train.columns[i])\n",
    "keep"
   ]
  },
  {
   "cell_type": "code",
   "execution_count": null,
   "id": "42de7e00",
   "metadata": {},
   "outputs": [],
   "source": [
    "rfc = RandomForestClassifier() \n",
    "\n",
    "param_grid = { \n",
    "    'n_estimators': [100, 200, 500],\n",
    "    'max_depth': [3, 5, 10],\n",
    "    'min_samples_split': [2, 5, 10]\n",
    "}\n",
    "CV_rfc = GridSearchCV(estimator=rfc, param_grid=param_grid, cv= 5)\n",
    "CV_rfc.fit(x_train, y_train)\n",
    "print(CV_rfc.best_params_)"
   ]
  },
  {
   "cell_type": "code",
   "execution_count": 38,
   "id": "242c5ea8",
   "metadata": {},
   "outputs": [
    {
     "data": {
      "text/plain": [
       "CARR              35936\n",
       "FRYING PAN        32879\n",
       "KING              31144\n",
       "CAMP              26301\n",
       "KINCADE           22743\n",
       "OAK               22166\n",
       "CALDWELL          20784\n",
       "HAPPY             18920\n",
       "BUTTE             18766\n",
       "ATLAS             18236\n",
       "ROCKY             16145\n",
       "BALD              15747\n",
       "REDWOOD VALLEY    14621\n",
       "WALKER            14123\n",
       "COVE              11634\n",
       "CASCADE            7014\n",
       "BUCK               5135\n",
       "Name: FIRE_NAME, dtype: int64"
      ]
     },
     "execution_count": 38,
     "metadata": {},
     "output_type": "execute_result"
    }
   ],
   "source": [
    "df['FIRE_NAME'].value_counts()"
   ]
  },
  {
   "cell_type": "code",
   "execution_count": 39,
   "id": "d4ecb334",
   "metadata": {},
   "outputs": [
    {
     "name": "stderr",
     "output_type": "stream",
     "text": [
      "<ipython-input-39-fa21e3a259a8>:4: SettingWithCopyWarning: \n",
      "A value is trying to be set on a copy of a slice from a DataFrame.\n",
      "Try using .loc[row_indexer,col_indexer] = value instead\n",
      "\n",
      "See the caveats in the documentation: https://pandas.pydata.org/pandas-docs/stable/user_guide/indexing.html#returning-a-view-versus-a-copy\n",
      "  clean_df[i]=pd.to_numeric(clean_df[i], errors='coerce')\n",
      "/Users/alicelu/opt/anaconda3/lib/python3.8/site-packages/pandas/core/series.py:4463: SettingWithCopyWarning: \n",
      "A value is trying to be set on a copy of a slice from a DataFrame\n",
      "\n",
      "See the caveats in the documentation: https://pandas.pydata.org/pandas-docs/stable/user_guide/indexing.html#returning-a-view-versus-a-copy\n",
      "  return super().fillna(\n",
      "/Users/alicelu/opt/anaconda3/lib/python3.8/site-packages/sklearn/utils/validation.py:63: DataConversionWarning: A column-vector y was passed when a 1d array was expected. Please change the shape of y to (n_samples, ), for example using ravel().\n",
      "  return f(*args, **kwargs)\n",
      "<ipython-input-39-fa21e3a259a8>:15: DataConversionWarning: A column-vector y was passed when a 1d array was expected. Please change the shape of y to (n_samples,), for example using ravel().\n",
      "  clf.fit(x_train, y_train)\n",
      "<ipython-input-39-fa21e3a259a8>:19: SettingWithCopyWarning: \n",
      "A value is trying to be set on a copy of a slice from a DataFrame.\n",
      "Try using .loc[row_indexer,col_indexer] = value instead\n",
      "\n",
      "See the caveats in the documentation: https://pandas.pydata.org/pandas-docs/stable/user_guide/indexing.html#returning-a-view-versus-a-copy\n",
      "  clean_df[i]=pd.to_numeric(clean_df[i], errors='coerce')\n",
      "/Users/alicelu/opt/anaconda3/lib/python3.8/site-packages/pandas/core/series.py:4463: SettingWithCopyWarning: \n",
      "A value is trying to be set on a copy of a slice from a DataFrame\n",
      "\n",
      "See the caveats in the documentation: https://pandas.pydata.org/pandas-docs/stable/user_guide/indexing.html#returning-a-view-versus-a-copy\n",
      "  return super().fillna(\n"
     ]
    },
    {
     "data": {
      "text/plain": [
       "0.6053712095866662"
      ]
     },
     "execution_count": 39,
     "metadata": {},
     "output_type": "execute_result"
    }
   ],
   "source": [
    "temp = df[df['FIRE_NAME']=='CARR']\n",
    "clean_df = temp[['burnSeverity','SR_B3','SR_B6','NDVI','elevation','percent_tree_cover','x_coord','y_coord']]\n",
    "for i in clean_df.columns:\n",
    "    clean_df[i]=pd.to_numeric(clean_df[i], errors='coerce')\n",
    "for i in clean_df.columns:\n",
    "    clean_df[i].fillna(value=clean_df[i].mean(), inplace=True)\n",
    "X_train = clean_df.drop(['burnSeverity'],axis=1)\n",
    "scaler = preprocessing.StandardScaler().fit(X_train.values)\n",
    "X_scaled = scaler.transform(X_train)\n",
    "lab_enc = preprocessing.LabelEncoder()\n",
    "encoded = lab_enc.fit_transform(clean_df[['burnSeverity']].values)\n",
    "x_train = clean_df[['SR_B3','SR_B6','NDVI','elevation','percent_tree_cover','x_coord','y_coord']]\n",
    "y_train = clean_df[['burnSeverity']]\n",
    "clf = RandomForestClassifier()\n",
    "clf.fit(x_train, y_train)\n",
    "temp = df[df['FIRE_NAME']=='FRYING PAN']\n",
    "clean_df = temp[['burnSeverity','SR_B3','SR_B6','NDVI','elevation','percent_tree_cover','x_coord','y_coord']]\n",
    "for i in clean_df.columns:\n",
    "    clean_df[i]=pd.to_numeric(clean_df[i], errors='coerce')\n",
    "for i in clean_df.columns:\n",
    "    clean_df[i].fillna(value=clean_df[i].mean(), inplace=True)\n",
    "x_test = clean_df[['SR_B3','SR_B6','NDVI','elevation','percent_tree_cover','x_coord','y_coord']]\n",
    "y_test = clean_df[['burnSeverity']]\n",
    "y_pred = clf.predict(x_test)\n",
    "clf.score(x_test, y_test)"
   ]
  },
  {
   "cell_type": "code",
   "execution_count": 40,
   "id": "7f2921a4",
   "metadata": {},
   "outputs": [
    {
     "data": {
      "text/plain": [
       "array([[    0,   117,     0,     0,     0],\n",
       "       [    0, 18845,   196,     0,     0],\n",
       "       [    0,  8327,  1030,     4,     0],\n",
       "       [    0,  3570,   226,    29,     0],\n",
       "       [    0,   535,     0,     0,     0]])"
      ]
     },
     "execution_count": 40,
     "metadata": {},
     "output_type": "execute_result"
    }
   ],
   "source": [
    "confusion_matrix(y_test, y_pred)"
   ]
  },
  {
   "cell_type": "code",
   "execution_count": 41,
   "id": "d5e626f7",
   "metadata": {},
   "outputs": [
    {
     "data": {
      "text/plain": [
       "0.8505428997232276"
      ]
     },
     "execution_count": 41,
     "metadata": {},
     "output_type": "execute_result"
    }
   ],
   "source": [
    "((y_pred - y_test['burnSeverity'])**2).mean()"
   ]
  }
 ],
 "metadata": {
  "kernelspec": {
   "display_name": "Python 3",
   "language": "python",
   "name": "python3"
  },
  "language_info": {
   "codemirror_mode": {
    "name": "ipython",
    "version": 3
   },
   "file_extension": ".py",
   "mimetype": "text/x-python",
   "name": "python",
   "nbconvert_exporter": "python",
   "pygments_lexer": "ipython3",
   "version": "3.8.8"
  }
 },
 "nbformat": 4,
 "nbformat_minor": 5
}
